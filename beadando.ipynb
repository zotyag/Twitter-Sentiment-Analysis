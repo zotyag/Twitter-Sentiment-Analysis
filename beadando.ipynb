{
  "nbformat": 4,
  "nbformat_minor": 0,
  "metadata": {
    "colab": {
      "provenance": [],
      "toc_visible": true,
      "gpuType": "T4"
    },
    "kernelspec": {
      "name": "python3",
      "display_name": "Python 3"
    },
    "language_info": {
      "name": "python"
    },
    "accelerator": "GPU"
  },
  "cells": [
    {
      "cell_type": "markdown",
      "source": [
        "##Text Cleaning"
      ],
      "metadata": {
        "id": "iGcsnCpv-xNT"
      }
    },
    {
      "cell_type": "markdown",
      "source": [
        "![Text Cleaning](https://zotyag.github.io/Uni/INLP/Images/tisztitas.webp)"
      ],
      "metadata": {
        "id": "9yWMHfqo8_GB"
      }
    },
    {
      "cell_type": "markdown",
      "source": [
        "Dataset\n",
        "https://huggingface.co/datasets/zeroshot/twitter-financial-news-sentiment\n"
      ],
      "metadata": {
        "id": "-s98IhhgdXQp"
      }
    },
    {
      "cell_type": "markdown",
      "source": [
        "###Importing dataset"
      ],
      "metadata": {
        "id": "WftZqm-KqCwr"
      }
    },
    {
      "cell_type": "code",
      "source": [
        "import pandas as pd\n",
        "\n",
        "splits = {'train': 'sent_train.csv', 'validation': 'sent_valid.csv'}\n",
        "df = pd.read_csv(\"hf://datasets/zeroshot/twitter-financial-news-sentiment/\" + splits[\"train\"])\n",
        "vf= pd.read_csv(\"hf://datasets/zeroshot/twitter-financial-news-sentiment/\" + splits[\"validation\"])\n",
        "df = pd.concat([df, vf])\n",
        "df.head(10)"
      ],
      "metadata": {
        "colab": {
          "base_uri": "https://localhost:8080/",
          "height": 363
        },
        "id": "ZqarE28o2wXV",
        "outputId": "e8529240-ec7a-45df-d2cb-2f27b1934588"
      },
      "execution_count": null,
      "outputs": [
        {
          "output_type": "execute_result",
          "data": {
            "text/plain": [
              "                                                text  label\n",
              "0  $BYND - JPMorgan reels in expectations on Beyo...      0\n",
              "1  $CCL $RCL - Nomura points to bookings weakness...      0\n",
              "2  $CX - Cemex cut at Credit Suisse, J.P. Morgan ...      0\n",
              "3  $ESS: BTIG Research cuts to Neutral https://t....      0\n",
              "4  $FNKO - Funko slides after Piper Jaffray PT cu...      0\n",
              "5  $FTI - TechnipFMC downgraded at Berenberg but ...      0\n",
              "6      $GM - GM loses a bull https://t.co/tdUfG5HbXy      0\n",
              "7  $GM: Deutsche Bank cuts to Hold https://t.co/7...      0\n",
              "8                 $GTT: Cowen cuts to Market Perform      0\n",
              "9  $HNHAF $HNHPD $AAPL - Trendforce cuts iPhone e...      0"
            ],
            "text/html": [
              "\n",
              "  <div id=\"df-ee4e54e6-34d3-4ab2-8813-3ee99a244a91\" class=\"colab-df-container\">\n",
              "    <div>\n",
              "<style scoped>\n",
              "    .dataframe tbody tr th:only-of-type {\n",
              "        vertical-align: middle;\n",
              "    }\n",
              "\n",
              "    .dataframe tbody tr th {\n",
              "        vertical-align: top;\n",
              "    }\n",
              "\n",
              "    .dataframe thead th {\n",
              "        text-align: right;\n",
              "    }\n",
              "</style>\n",
              "<table border=\"1\" class=\"dataframe\">\n",
              "  <thead>\n",
              "    <tr style=\"text-align: right;\">\n",
              "      <th></th>\n",
              "      <th>text</th>\n",
              "      <th>label</th>\n",
              "    </tr>\n",
              "  </thead>\n",
              "  <tbody>\n",
              "    <tr>\n",
              "      <th>0</th>\n",
              "      <td>$BYND - JPMorgan reels in expectations on Beyo...</td>\n",
              "      <td>0</td>\n",
              "    </tr>\n",
              "    <tr>\n",
              "      <th>1</th>\n",
              "      <td>$CCL $RCL - Nomura points to bookings weakness...</td>\n",
              "      <td>0</td>\n",
              "    </tr>\n",
              "    <tr>\n",
              "      <th>2</th>\n",
              "      <td>$CX - Cemex cut at Credit Suisse, J.P. Morgan ...</td>\n",
              "      <td>0</td>\n",
              "    </tr>\n",
              "    <tr>\n",
              "      <th>3</th>\n",
              "      <td>$ESS: BTIG Research cuts to Neutral https://t....</td>\n",
              "      <td>0</td>\n",
              "    </tr>\n",
              "    <tr>\n",
              "      <th>4</th>\n",
              "      <td>$FNKO - Funko slides after Piper Jaffray PT cu...</td>\n",
              "      <td>0</td>\n",
              "    </tr>\n",
              "    <tr>\n",
              "      <th>5</th>\n",
              "      <td>$FTI - TechnipFMC downgraded at Berenberg but ...</td>\n",
              "      <td>0</td>\n",
              "    </tr>\n",
              "    <tr>\n",
              "      <th>6</th>\n",
              "      <td>$GM - GM loses a bull https://t.co/tdUfG5HbXy</td>\n",
              "      <td>0</td>\n",
              "    </tr>\n",
              "    <tr>\n",
              "      <th>7</th>\n",
              "      <td>$GM: Deutsche Bank cuts to Hold https://t.co/7...</td>\n",
              "      <td>0</td>\n",
              "    </tr>\n",
              "    <tr>\n",
              "      <th>8</th>\n",
              "      <td>$GTT: Cowen cuts to Market Perform</td>\n",
              "      <td>0</td>\n",
              "    </tr>\n",
              "    <tr>\n",
              "      <th>9</th>\n",
              "      <td>$HNHAF $HNHPD $AAPL - Trendforce cuts iPhone e...</td>\n",
              "      <td>0</td>\n",
              "    </tr>\n",
              "  </tbody>\n",
              "</table>\n",
              "</div>\n",
              "    <div class=\"colab-df-buttons\">\n",
              "\n",
              "  <div class=\"colab-df-container\">\n",
              "    <button class=\"colab-df-convert\" onclick=\"convertToInteractive('df-ee4e54e6-34d3-4ab2-8813-3ee99a244a91')\"\n",
              "            title=\"Convert this dataframe to an interactive table.\"\n",
              "            style=\"display:none;\">\n",
              "\n",
              "  <svg xmlns=\"http://www.w3.org/2000/svg\" height=\"24px\" viewBox=\"0 -960 960 960\">\n",
              "    <path d=\"M120-120v-720h720v720H120Zm60-500h600v-160H180v160Zm220 220h160v-160H400v160Zm0 220h160v-160H400v160ZM180-400h160v-160H180v160Zm440 0h160v-160H620v160ZM180-180h160v-160H180v160Zm440 0h160v-160H620v160Z\"/>\n",
              "  </svg>\n",
              "    </button>\n",
              "\n",
              "  <style>\n",
              "    .colab-df-container {\n",
              "      display:flex;\n",
              "      gap: 12px;\n",
              "    }\n",
              "\n",
              "    .colab-df-convert {\n",
              "      background-color: #E8F0FE;\n",
              "      border: none;\n",
              "      border-radius: 50%;\n",
              "      cursor: pointer;\n",
              "      display: none;\n",
              "      fill: #1967D2;\n",
              "      height: 32px;\n",
              "      padding: 0 0 0 0;\n",
              "      width: 32px;\n",
              "    }\n",
              "\n",
              "    .colab-df-convert:hover {\n",
              "      background-color: #E2EBFA;\n",
              "      box-shadow: 0px 1px 2px rgba(60, 64, 67, 0.3), 0px 1px 3px 1px rgba(60, 64, 67, 0.15);\n",
              "      fill: #174EA6;\n",
              "    }\n",
              "\n",
              "    .colab-df-buttons div {\n",
              "      margin-bottom: 4px;\n",
              "    }\n",
              "\n",
              "    [theme=dark] .colab-df-convert {\n",
              "      background-color: #3B4455;\n",
              "      fill: #D2E3FC;\n",
              "    }\n",
              "\n",
              "    [theme=dark] .colab-df-convert:hover {\n",
              "      background-color: #434B5C;\n",
              "      box-shadow: 0px 1px 3px 1px rgba(0, 0, 0, 0.15);\n",
              "      filter: drop-shadow(0px 1px 2px rgba(0, 0, 0, 0.3));\n",
              "      fill: #FFFFFF;\n",
              "    }\n",
              "  </style>\n",
              "\n",
              "    <script>\n",
              "      const buttonEl =\n",
              "        document.querySelector('#df-ee4e54e6-34d3-4ab2-8813-3ee99a244a91 button.colab-df-convert');\n",
              "      buttonEl.style.display =\n",
              "        google.colab.kernel.accessAllowed ? 'block' : 'none';\n",
              "\n",
              "      async function convertToInteractive(key) {\n",
              "        const element = document.querySelector('#df-ee4e54e6-34d3-4ab2-8813-3ee99a244a91');\n",
              "        const dataTable =\n",
              "          await google.colab.kernel.invokeFunction('convertToInteractive',\n",
              "                                                    [key], {});\n",
              "        if (!dataTable) return;\n",
              "\n",
              "        const docLinkHtml = 'Like what you see? Visit the ' +\n",
              "          '<a target=\"_blank\" href=https://colab.research.google.com/notebooks/data_table.ipynb>data table notebook</a>'\n",
              "          + ' to learn more about interactive tables.';\n",
              "        element.innerHTML = '';\n",
              "        dataTable['output_type'] = 'display_data';\n",
              "        await google.colab.output.renderOutput(dataTable, element);\n",
              "        const docLink = document.createElement('div');\n",
              "        docLink.innerHTML = docLinkHtml;\n",
              "        element.appendChild(docLink);\n",
              "      }\n",
              "    </script>\n",
              "  </div>\n",
              "\n",
              "\n",
              "<div id=\"df-bb89c1f7-4520-49ea-92ef-481bae36cdd8\">\n",
              "  <button class=\"colab-df-quickchart\" onclick=\"quickchart('df-bb89c1f7-4520-49ea-92ef-481bae36cdd8')\"\n",
              "            title=\"Suggest charts\"\n",
              "            style=\"display:none;\">\n",
              "\n",
              "<svg xmlns=\"http://www.w3.org/2000/svg\" height=\"24px\"viewBox=\"0 0 24 24\"\n",
              "     width=\"24px\">\n",
              "    <g>\n",
              "        <path d=\"M19 3H5c-1.1 0-2 .9-2 2v14c0 1.1.9 2 2 2h14c1.1 0 2-.9 2-2V5c0-1.1-.9-2-2-2zM9 17H7v-7h2v7zm4 0h-2V7h2v10zm4 0h-2v-4h2v4z\"/>\n",
              "    </g>\n",
              "</svg>\n",
              "  </button>\n",
              "\n",
              "<style>\n",
              "  .colab-df-quickchart {\n",
              "      --bg-color: #E8F0FE;\n",
              "      --fill-color: #1967D2;\n",
              "      --hover-bg-color: #E2EBFA;\n",
              "      --hover-fill-color: #174EA6;\n",
              "      --disabled-fill-color: #AAA;\n",
              "      --disabled-bg-color: #DDD;\n",
              "  }\n",
              "\n",
              "  [theme=dark] .colab-df-quickchart {\n",
              "      --bg-color: #3B4455;\n",
              "      --fill-color: #D2E3FC;\n",
              "      --hover-bg-color: #434B5C;\n",
              "      --hover-fill-color: #FFFFFF;\n",
              "      --disabled-bg-color: #3B4455;\n",
              "      --disabled-fill-color: #666;\n",
              "  }\n",
              "\n",
              "  .colab-df-quickchart {\n",
              "    background-color: var(--bg-color);\n",
              "    border: none;\n",
              "    border-radius: 50%;\n",
              "    cursor: pointer;\n",
              "    display: none;\n",
              "    fill: var(--fill-color);\n",
              "    height: 32px;\n",
              "    padding: 0;\n",
              "    width: 32px;\n",
              "  }\n",
              "\n",
              "  .colab-df-quickchart:hover {\n",
              "    background-color: var(--hover-bg-color);\n",
              "    box-shadow: 0 1px 2px rgba(60, 64, 67, 0.3), 0 1px 3px 1px rgba(60, 64, 67, 0.15);\n",
              "    fill: var(--button-hover-fill-color);\n",
              "  }\n",
              "\n",
              "  .colab-df-quickchart-complete:disabled,\n",
              "  .colab-df-quickchart-complete:disabled:hover {\n",
              "    background-color: var(--disabled-bg-color);\n",
              "    fill: var(--disabled-fill-color);\n",
              "    box-shadow: none;\n",
              "  }\n",
              "\n",
              "  .colab-df-spinner {\n",
              "    border: 2px solid var(--fill-color);\n",
              "    border-color: transparent;\n",
              "    border-bottom-color: var(--fill-color);\n",
              "    animation:\n",
              "      spin 1s steps(1) infinite;\n",
              "  }\n",
              "\n",
              "  @keyframes spin {\n",
              "    0% {\n",
              "      border-color: transparent;\n",
              "      border-bottom-color: var(--fill-color);\n",
              "      border-left-color: var(--fill-color);\n",
              "    }\n",
              "    20% {\n",
              "      border-color: transparent;\n",
              "      border-left-color: var(--fill-color);\n",
              "      border-top-color: var(--fill-color);\n",
              "    }\n",
              "    30% {\n",
              "      border-color: transparent;\n",
              "      border-left-color: var(--fill-color);\n",
              "      border-top-color: var(--fill-color);\n",
              "      border-right-color: var(--fill-color);\n",
              "    }\n",
              "    40% {\n",
              "      border-color: transparent;\n",
              "      border-right-color: var(--fill-color);\n",
              "      border-top-color: var(--fill-color);\n",
              "    }\n",
              "    60% {\n",
              "      border-color: transparent;\n",
              "      border-right-color: var(--fill-color);\n",
              "    }\n",
              "    80% {\n",
              "      border-color: transparent;\n",
              "      border-right-color: var(--fill-color);\n",
              "      border-bottom-color: var(--fill-color);\n",
              "    }\n",
              "    90% {\n",
              "      border-color: transparent;\n",
              "      border-bottom-color: var(--fill-color);\n",
              "    }\n",
              "  }\n",
              "</style>\n",
              "\n",
              "  <script>\n",
              "    async function quickchart(key) {\n",
              "      const quickchartButtonEl =\n",
              "        document.querySelector('#' + key + ' button');\n",
              "      quickchartButtonEl.disabled = true;  // To prevent multiple clicks.\n",
              "      quickchartButtonEl.classList.add('colab-df-spinner');\n",
              "      try {\n",
              "        const charts = await google.colab.kernel.invokeFunction(\n",
              "            'suggestCharts', [key], {});\n",
              "      } catch (error) {\n",
              "        console.error('Error during call to suggestCharts:', error);\n",
              "      }\n",
              "      quickchartButtonEl.classList.remove('colab-df-spinner');\n",
              "      quickchartButtonEl.classList.add('colab-df-quickchart-complete');\n",
              "    }\n",
              "    (() => {\n",
              "      let quickchartButtonEl =\n",
              "        document.querySelector('#df-bb89c1f7-4520-49ea-92ef-481bae36cdd8 button');\n",
              "      quickchartButtonEl.style.display =\n",
              "        google.colab.kernel.accessAllowed ? 'block' : 'none';\n",
              "    })();\n",
              "  </script>\n",
              "</div>\n",
              "\n",
              "    </div>\n",
              "  </div>\n"
            ],
            "application/vnd.google.colaboratory.intrinsic+json": {
              "type": "dataframe",
              "variable_name": "df",
              "summary": "{\n  \"name\": \"df\",\n  \"rows\": 11931,\n  \"fields\": [\n    {\n      \"column\": \"text\",\n      \"properties\": {\n        \"dtype\": \"string\",\n        \"num_unique_values\": 11931,\n        \"samples\": [\n          \"\\u2018Joker\\u2019 officially becomes first billion-dollar R-rated movie\",\n          \"Here's Why We're Wary Of Buying Kin and Carta plc's (LON:KCT) For Its Upcoming Dividend\",\n          \"GoPro's share price has had a ride as turbulent as some of the heart-stopping stunt videos the camera is responsibl\\u2026 https://t.co/gdiJt50HGK\"\n        ],\n        \"semantic_type\": \"\",\n        \"description\": \"\"\n      }\n    },\n    {\n      \"column\": \"label\",\n      \"properties\": {\n        \"dtype\": \"number\",\n        \"std\": 0,\n        \"min\": 0,\n        \"max\": 2,\n        \"num_unique_values\": 3,\n        \"samples\": [\n          0,\n          1,\n          2\n        ],\n        \"semantic_type\": \"\",\n        \"description\": \"\"\n      }\n    }\n  ]\n}"
            }
          },
          "metadata": {},
          "execution_count": 33
        }
      ]
    },
    {
      "cell_type": "markdown",
      "source": [
        "###Removing URLs"
      ],
      "metadata": {
        "id": "_RC4SqZwqJbV"
      }
    },
    {
      "cell_type": "code",
      "source": [
        "# prompt: Remove any URLs from the data df[\"text\"]\n",
        "\n",
        "import re\n",
        "\n",
        "def remove_urls(text):\n",
        "    url_pattern = re.compile(r'https?://\\S+|www\\.\\S+')\n",
        "    return url_pattern.sub(r'', text)\n",
        "\n",
        "df[\"text\"] = df[\"text\"].apply(lambda text: remove_urls(text))\n",
        "df.head(10)"
      ],
      "metadata": {
        "colab": {
          "base_uri": "https://localhost:8080/",
          "height": 363
        },
        "id": "QxGDHH0m4JWn",
        "outputId": "5388e1a9-fa0b-4172-bf86-41915e7338a7"
      },
      "execution_count": null,
      "outputs": [
        {
          "output_type": "execute_result",
          "data": {
            "text/plain": [
              "                                                text  label\n",
              "0  $BYND - JPMorgan reels in expectations on Beyo...      0\n",
              "1  $CCL $RCL - Nomura points to bookings weakness...      0\n",
              "2  $CX - Cemex cut at Credit Suisse, J.P. Morgan ...      0\n",
              "3               $ESS: BTIG Research cuts to Neutral       0\n",
              "4   $FNKO - Funko slides after Piper Jaffray PT cut       0\n",
              "5  $FTI - TechnipFMC downgraded at Berenberg but ...      0\n",
              "6                             $GM - GM loses a bull       0\n",
              "7                   $GM: Deutsche Bank cuts to Hold       0\n",
              "8                 $GTT: Cowen cuts to Market Perform      0\n",
              "9  $HNHAF $HNHPD $AAPL - Trendforce cuts iPhone e...      0"
            ],
            "text/html": [
              "\n",
              "  <div id=\"df-4c8655e3-71cc-417b-8768-beb200c7dc29\" class=\"colab-df-container\">\n",
              "    <div>\n",
              "<style scoped>\n",
              "    .dataframe tbody tr th:only-of-type {\n",
              "        vertical-align: middle;\n",
              "    }\n",
              "\n",
              "    .dataframe tbody tr th {\n",
              "        vertical-align: top;\n",
              "    }\n",
              "\n",
              "    .dataframe thead th {\n",
              "        text-align: right;\n",
              "    }\n",
              "</style>\n",
              "<table border=\"1\" class=\"dataframe\">\n",
              "  <thead>\n",
              "    <tr style=\"text-align: right;\">\n",
              "      <th></th>\n",
              "      <th>text</th>\n",
              "      <th>label</th>\n",
              "    </tr>\n",
              "  </thead>\n",
              "  <tbody>\n",
              "    <tr>\n",
              "      <th>0</th>\n",
              "      <td>$BYND - JPMorgan reels in expectations on Beyo...</td>\n",
              "      <td>0</td>\n",
              "    </tr>\n",
              "    <tr>\n",
              "      <th>1</th>\n",
              "      <td>$CCL $RCL - Nomura points to bookings weakness...</td>\n",
              "      <td>0</td>\n",
              "    </tr>\n",
              "    <tr>\n",
              "      <th>2</th>\n",
              "      <td>$CX - Cemex cut at Credit Suisse, J.P. Morgan ...</td>\n",
              "      <td>0</td>\n",
              "    </tr>\n",
              "    <tr>\n",
              "      <th>3</th>\n",
              "      <td>$ESS: BTIG Research cuts to Neutral</td>\n",
              "      <td>0</td>\n",
              "    </tr>\n",
              "    <tr>\n",
              "      <th>4</th>\n",
              "      <td>$FNKO - Funko slides after Piper Jaffray PT cut</td>\n",
              "      <td>0</td>\n",
              "    </tr>\n",
              "    <tr>\n",
              "      <th>5</th>\n",
              "      <td>$FTI - TechnipFMC downgraded at Berenberg but ...</td>\n",
              "      <td>0</td>\n",
              "    </tr>\n",
              "    <tr>\n",
              "      <th>6</th>\n",
              "      <td>$GM - GM loses a bull</td>\n",
              "      <td>0</td>\n",
              "    </tr>\n",
              "    <tr>\n",
              "      <th>7</th>\n",
              "      <td>$GM: Deutsche Bank cuts to Hold</td>\n",
              "      <td>0</td>\n",
              "    </tr>\n",
              "    <tr>\n",
              "      <th>8</th>\n",
              "      <td>$GTT: Cowen cuts to Market Perform</td>\n",
              "      <td>0</td>\n",
              "    </tr>\n",
              "    <tr>\n",
              "      <th>9</th>\n",
              "      <td>$HNHAF $HNHPD $AAPL - Trendforce cuts iPhone e...</td>\n",
              "      <td>0</td>\n",
              "    </tr>\n",
              "  </tbody>\n",
              "</table>\n",
              "</div>\n",
              "    <div class=\"colab-df-buttons\">\n",
              "\n",
              "  <div class=\"colab-df-container\">\n",
              "    <button class=\"colab-df-convert\" onclick=\"convertToInteractive('df-4c8655e3-71cc-417b-8768-beb200c7dc29')\"\n",
              "            title=\"Convert this dataframe to an interactive table.\"\n",
              "            style=\"display:none;\">\n",
              "\n",
              "  <svg xmlns=\"http://www.w3.org/2000/svg\" height=\"24px\" viewBox=\"0 -960 960 960\">\n",
              "    <path d=\"M120-120v-720h720v720H120Zm60-500h600v-160H180v160Zm220 220h160v-160H400v160Zm0 220h160v-160H400v160ZM180-400h160v-160H180v160Zm440 0h160v-160H620v160ZM180-180h160v-160H180v160Zm440 0h160v-160H620v160Z\"/>\n",
              "  </svg>\n",
              "    </button>\n",
              "\n",
              "  <style>\n",
              "    .colab-df-container {\n",
              "      display:flex;\n",
              "      gap: 12px;\n",
              "    }\n",
              "\n",
              "    .colab-df-convert {\n",
              "      background-color: #E8F0FE;\n",
              "      border: none;\n",
              "      border-radius: 50%;\n",
              "      cursor: pointer;\n",
              "      display: none;\n",
              "      fill: #1967D2;\n",
              "      height: 32px;\n",
              "      padding: 0 0 0 0;\n",
              "      width: 32px;\n",
              "    }\n",
              "\n",
              "    .colab-df-convert:hover {\n",
              "      background-color: #E2EBFA;\n",
              "      box-shadow: 0px 1px 2px rgba(60, 64, 67, 0.3), 0px 1px 3px 1px rgba(60, 64, 67, 0.15);\n",
              "      fill: #174EA6;\n",
              "    }\n",
              "\n",
              "    .colab-df-buttons div {\n",
              "      margin-bottom: 4px;\n",
              "    }\n",
              "\n",
              "    [theme=dark] .colab-df-convert {\n",
              "      background-color: #3B4455;\n",
              "      fill: #D2E3FC;\n",
              "    }\n",
              "\n",
              "    [theme=dark] .colab-df-convert:hover {\n",
              "      background-color: #434B5C;\n",
              "      box-shadow: 0px 1px 3px 1px rgba(0, 0, 0, 0.15);\n",
              "      filter: drop-shadow(0px 1px 2px rgba(0, 0, 0, 0.3));\n",
              "      fill: #FFFFFF;\n",
              "    }\n",
              "  </style>\n",
              "\n",
              "    <script>\n",
              "      const buttonEl =\n",
              "        document.querySelector('#df-4c8655e3-71cc-417b-8768-beb200c7dc29 button.colab-df-convert');\n",
              "      buttonEl.style.display =\n",
              "        google.colab.kernel.accessAllowed ? 'block' : 'none';\n",
              "\n",
              "      async function convertToInteractive(key) {\n",
              "        const element = document.querySelector('#df-4c8655e3-71cc-417b-8768-beb200c7dc29');\n",
              "        const dataTable =\n",
              "          await google.colab.kernel.invokeFunction('convertToInteractive',\n",
              "                                                    [key], {});\n",
              "        if (!dataTable) return;\n",
              "\n",
              "        const docLinkHtml = 'Like what you see? Visit the ' +\n",
              "          '<a target=\"_blank\" href=https://colab.research.google.com/notebooks/data_table.ipynb>data table notebook</a>'\n",
              "          + ' to learn more about interactive tables.';\n",
              "        element.innerHTML = '';\n",
              "        dataTable['output_type'] = 'display_data';\n",
              "        await google.colab.output.renderOutput(dataTable, element);\n",
              "        const docLink = document.createElement('div');\n",
              "        docLink.innerHTML = docLinkHtml;\n",
              "        element.appendChild(docLink);\n",
              "      }\n",
              "    </script>\n",
              "  </div>\n",
              "\n",
              "\n",
              "<div id=\"df-b223ecdf-7c93-4763-96c7-098b299bf044\">\n",
              "  <button class=\"colab-df-quickchart\" onclick=\"quickchart('df-b223ecdf-7c93-4763-96c7-098b299bf044')\"\n",
              "            title=\"Suggest charts\"\n",
              "            style=\"display:none;\">\n",
              "\n",
              "<svg xmlns=\"http://www.w3.org/2000/svg\" height=\"24px\"viewBox=\"0 0 24 24\"\n",
              "     width=\"24px\">\n",
              "    <g>\n",
              "        <path d=\"M19 3H5c-1.1 0-2 .9-2 2v14c0 1.1.9 2 2 2h14c1.1 0 2-.9 2-2V5c0-1.1-.9-2-2-2zM9 17H7v-7h2v7zm4 0h-2V7h2v10zm4 0h-2v-4h2v4z\"/>\n",
              "    </g>\n",
              "</svg>\n",
              "  </button>\n",
              "\n",
              "<style>\n",
              "  .colab-df-quickchart {\n",
              "      --bg-color: #E8F0FE;\n",
              "      --fill-color: #1967D2;\n",
              "      --hover-bg-color: #E2EBFA;\n",
              "      --hover-fill-color: #174EA6;\n",
              "      --disabled-fill-color: #AAA;\n",
              "      --disabled-bg-color: #DDD;\n",
              "  }\n",
              "\n",
              "  [theme=dark] .colab-df-quickchart {\n",
              "      --bg-color: #3B4455;\n",
              "      --fill-color: #D2E3FC;\n",
              "      --hover-bg-color: #434B5C;\n",
              "      --hover-fill-color: #FFFFFF;\n",
              "      --disabled-bg-color: #3B4455;\n",
              "      --disabled-fill-color: #666;\n",
              "  }\n",
              "\n",
              "  .colab-df-quickchart {\n",
              "    background-color: var(--bg-color);\n",
              "    border: none;\n",
              "    border-radius: 50%;\n",
              "    cursor: pointer;\n",
              "    display: none;\n",
              "    fill: var(--fill-color);\n",
              "    height: 32px;\n",
              "    padding: 0;\n",
              "    width: 32px;\n",
              "  }\n",
              "\n",
              "  .colab-df-quickchart:hover {\n",
              "    background-color: var(--hover-bg-color);\n",
              "    box-shadow: 0 1px 2px rgba(60, 64, 67, 0.3), 0 1px 3px 1px rgba(60, 64, 67, 0.15);\n",
              "    fill: var(--button-hover-fill-color);\n",
              "  }\n",
              "\n",
              "  .colab-df-quickchart-complete:disabled,\n",
              "  .colab-df-quickchart-complete:disabled:hover {\n",
              "    background-color: var(--disabled-bg-color);\n",
              "    fill: var(--disabled-fill-color);\n",
              "    box-shadow: none;\n",
              "  }\n",
              "\n",
              "  .colab-df-spinner {\n",
              "    border: 2px solid var(--fill-color);\n",
              "    border-color: transparent;\n",
              "    border-bottom-color: var(--fill-color);\n",
              "    animation:\n",
              "      spin 1s steps(1) infinite;\n",
              "  }\n",
              "\n",
              "  @keyframes spin {\n",
              "    0% {\n",
              "      border-color: transparent;\n",
              "      border-bottom-color: var(--fill-color);\n",
              "      border-left-color: var(--fill-color);\n",
              "    }\n",
              "    20% {\n",
              "      border-color: transparent;\n",
              "      border-left-color: var(--fill-color);\n",
              "      border-top-color: var(--fill-color);\n",
              "    }\n",
              "    30% {\n",
              "      border-color: transparent;\n",
              "      border-left-color: var(--fill-color);\n",
              "      border-top-color: var(--fill-color);\n",
              "      border-right-color: var(--fill-color);\n",
              "    }\n",
              "    40% {\n",
              "      border-color: transparent;\n",
              "      border-right-color: var(--fill-color);\n",
              "      border-top-color: var(--fill-color);\n",
              "    }\n",
              "    60% {\n",
              "      border-color: transparent;\n",
              "      border-right-color: var(--fill-color);\n",
              "    }\n",
              "    80% {\n",
              "      border-color: transparent;\n",
              "      border-right-color: var(--fill-color);\n",
              "      border-bottom-color: var(--fill-color);\n",
              "    }\n",
              "    90% {\n",
              "      border-color: transparent;\n",
              "      border-bottom-color: var(--fill-color);\n",
              "    }\n",
              "  }\n",
              "</style>\n",
              "\n",
              "  <script>\n",
              "    async function quickchart(key) {\n",
              "      const quickchartButtonEl =\n",
              "        document.querySelector('#' + key + ' button');\n",
              "      quickchartButtonEl.disabled = true;  // To prevent multiple clicks.\n",
              "      quickchartButtonEl.classList.add('colab-df-spinner');\n",
              "      try {\n",
              "        const charts = await google.colab.kernel.invokeFunction(\n",
              "            'suggestCharts', [key], {});\n",
              "      } catch (error) {\n",
              "        console.error('Error during call to suggestCharts:', error);\n",
              "      }\n",
              "      quickchartButtonEl.classList.remove('colab-df-spinner');\n",
              "      quickchartButtonEl.classList.add('colab-df-quickchart-complete');\n",
              "    }\n",
              "    (() => {\n",
              "      let quickchartButtonEl =\n",
              "        document.querySelector('#df-b223ecdf-7c93-4763-96c7-098b299bf044 button');\n",
              "      quickchartButtonEl.style.display =\n",
              "        google.colab.kernel.accessAllowed ? 'block' : 'none';\n",
              "    })();\n",
              "  </script>\n",
              "</div>\n",
              "\n",
              "    </div>\n",
              "  </div>\n"
            ],
            "application/vnd.google.colaboratory.intrinsic+json": {
              "type": "dataframe",
              "variable_name": "df",
              "summary": "{\n  \"name\": \"df\",\n  \"rows\": 11931,\n  \"fields\": [\n    {\n      \"column\": \"text\",\n      \"properties\": {\n        \"dtype\": \"string\",\n        \"num_unique_values\": 11808,\n        \"samples\": [\n          \"$MRVL - Marvell: Making The Transition With Mixed Results. Get more info on Seeking Alpha:  \",\n          \"ArcelorMittal, commissioners extend talks on Ilva plant - Reuters\",\n          \"Eskom Yields Fall as Restructure Chief Says Debt Plan Days Away\"\n        ],\n        \"semantic_type\": \"\",\n        \"description\": \"\"\n      }\n    },\n    {\n      \"column\": \"label\",\n      \"properties\": {\n        \"dtype\": \"number\",\n        \"std\": 0,\n        \"min\": 0,\n        \"max\": 2,\n        \"num_unique_values\": 3,\n        \"samples\": [\n          0,\n          1,\n          2\n        ],\n        \"semantic_type\": \"\",\n        \"description\": \"\"\n      }\n    }\n  ]\n}"
            }
          },
          "metadata": {},
          "execution_count": 34
        }
      ]
    },
    {
      "cell_type": "code",
      "source": [
        "# prompt: Search the df[\"text\"] for any URLs\n",
        "\n",
        "import pandas as pd\n",
        "import re\n",
        "\n",
        "# Assuming df and remove_urls are defined as in the previous code\n",
        "\n",
        "def find_urls(text):\n",
        "    url_pattern = re.compile(r'https?://\\S+|www\\.\\S+')\n",
        "    urls = url_pattern.findall(text)\n",
        "    return urls\n",
        "\n",
        "df[\"urls\"] = df[\"text\"].apply(lambda text: find_urls(text))\n",
        "\n",
        "# Display rows where URLs were found\n",
        "print(df[df[\"urls\"].apply(lambda x: len(x) > 0)])"
      ],
      "metadata": {
        "colab": {
          "base_uri": "https://localhost:8080/"
        },
        "id": "CB2lzEaW_-4d",
        "outputId": "23543d5e-51cc-475a-b836-afb6fa60e4e6"
      },
      "execution_count": null,
      "outputs": [
        {
          "output_type": "stream",
          "name": "stdout",
          "text": [
            "Empty DataFrame\n",
            "Columns: [text, label, urls]\n",
            "Index: []\n"
          ]
        }
      ]
    },
    {
      "cell_type": "markdown",
      "source": [
        "###Lowercasing"
      ],
      "metadata": {
        "id": "Fti6Hd1cqTWE"
      }
    },
    {
      "cell_type": "code",
      "source": [
        "# prompt: Apply the lower() function to df[\"text\"]\n",
        "\n",
        "df[\"text\"] = df[\"text\"].str.lower()\n",
        "df.head(10)"
      ],
      "metadata": {
        "id": "pgxXSmE65VbQ",
        "colab": {
          "base_uri": "https://localhost:8080/",
          "height": 363
        },
        "outputId": "f1d2af5d-ee44-4c31-b32c-89053f8c080e"
      },
      "execution_count": null,
      "outputs": [
        {
          "output_type": "execute_result",
          "data": {
            "text/plain": [
              "                                                text  label urls\n",
              "0  $bynd - jpmorgan reels in expectations on beyo...      0   []\n",
              "1  $ccl $rcl - nomura points to bookings weakness...      0   []\n",
              "2  $cx - cemex cut at credit suisse, j.p. morgan ...      0   []\n",
              "3               $ess: btig research cuts to neutral       0   []\n",
              "4   $fnko - funko slides after piper jaffray pt cut       0   []\n",
              "5  $fti - technipfmc downgraded at berenberg but ...      0   []\n",
              "6                             $gm - gm loses a bull       0   []\n",
              "7                   $gm: deutsche bank cuts to hold       0   []\n",
              "8                 $gtt: cowen cuts to market perform      0   []\n",
              "9  $hnhaf $hnhpd $aapl - trendforce cuts iphone e...      0   []"
            ],
            "text/html": [
              "\n",
              "  <div id=\"df-106b83d8-a29e-460a-82e5-11fd59bf58dc\" class=\"colab-df-container\">\n",
              "    <div>\n",
              "<style scoped>\n",
              "    .dataframe tbody tr th:only-of-type {\n",
              "        vertical-align: middle;\n",
              "    }\n",
              "\n",
              "    .dataframe tbody tr th {\n",
              "        vertical-align: top;\n",
              "    }\n",
              "\n",
              "    .dataframe thead th {\n",
              "        text-align: right;\n",
              "    }\n",
              "</style>\n",
              "<table border=\"1\" class=\"dataframe\">\n",
              "  <thead>\n",
              "    <tr style=\"text-align: right;\">\n",
              "      <th></th>\n",
              "      <th>text</th>\n",
              "      <th>label</th>\n",
              "      <th>urls</th>\n",
              "    </tr>\n",
              "  </thead>\n",
              "  <tbody>\n",
              "    <tr>\n",
              "      <th>0</th>\n",
              "      <td>$bynd - jpmorgan reels in expectations on beyo...</td>\n",
              "      <td>0</td>\n",
              "      <td>[]</td>\n",
              "    </tr>\n",
              "    <tr>\n",
              "      <th>1</th>\n",
              "      <td>$ccl $rcl - nomura points to bookings weakness...</td>\n",
              "      <td>0</td>\n",
              "      <td>[]</td>\n",
              "    </tr>\n",
              "    <tr>\n",
              "      <th>2</th>\n",
              "      <td>$cx - cemex cut at credit suisse, j.p. morgan ...</td>\n",
              "      <td>0</td>\n",
              "      <td>[]</td>\n",
              "    </tr>\n",
              "    <tr>\n",
              "      <th>3</th>\n",
              "      <td>$ess: btig research cuts to neutral</td>\n",
              "      <td>0</td>\n",
              "      <td>[]</td>\n",
              "    </tr>\n",
              "    <tr>\n",
              "      <th>4</th>\n",
              "      <td>$fnko - funko slides after piper jaffray pt cut</td>\n",
              "      <td>0</td>\n",
              "      <td>[]</td>\n",
              "    </tr>\n",
              "    <tr>\n",
              "      <th>5</th>\n",
              "      <td>$fti - technipfmc downgraded at berenberg but ...</td>\n",
              "      <td>0</td>\n",
              "      <td>[]</td>\n",
              "    </tr>\n",
              "    <tr>\n",
              "      <th>6</th>\n",
              "      <td>$gm - gm loses a bull</td>\n",
              "      <td>0</td>\n",
              "      <td>[]</td>\n",
              "    </tr>\n",
              "    <tr>\n",
              "      <th>7</th>\n",
              "      <td>$gm: deutsche bank cuts to hold</td>\n",
              "      <td>0</td>\n",
              "      <td>[]</td>\n",
              "    </tr>\n",
              "    <tr>\n",
              "      <th>8</th>\n",
              "      <td>$gtt: cowen cuts to market perform</td>\n",
              "      <td>0</td>\n",
              "      <td>[]</td>\n",
              "    </tr>\n",
              "    <tr>\n",
              "      <th>9</th>\n",
              "      <td>$hnhaf $hnhpd $aapl - trendforce cuts iphone e...</td>\n",
              "      <td>0</td>\n",
              "      <td>[]</td>\n",
              "    </tr>\n",
              "  </tbody>\n",
              "</table>\n",
              "</div>\n",
              "    <div class=\"colab-df-buttons\">\n",
              "\n",
              "  <div class=\"colab-df-container\">\n",
              "    <button class=\"colab-df-convert\" onclick=\"convertToInteractive('df-106b83d8-a29e-460a-82e5-11fd59bf58dc')\"\n",
              "            title=\"Convert this dataframe to an interactive table.\"\n",
              "            style=\"display:none;\">\n",
              "\n",
              "  <svg xmlns=\"http://www.w3.org/2000/svg\" height=\"24px\" viewBox=\"0 -960 960 960\">\n",
              "    <path d=\"M120-120v-720h720v720H120Zm60-500h600v-160H180v160Zm220 220h160v-160H400v160Zm0 220h160v-160H400v160ZM180-400h160v-160H180v160Zm440 0h160v-160H620v160ZM180-180h160v-160H180v160Zm440 0h160v-160H620v160Z\"/>\n",
              "  </svg>\n",
              "    </button>\n",
              "\n",
              "  <style>\n",
              "    .colab-df-container {\n",
              "      display:flex;\n",
              "      gap: 12px;\n",
              "    }\n",
              "\n",
              "    .colab-df-convert {\n",
              "      background-color: #E8F0FE;\n",
              "      border: none;\n",
              "      border-radius: 50%;\n",
              "      cursor: pointer;\n",
              "      display: none;\n",
              "      fill: #1967D2;\n",
              "      height: 32px;\n",
              "      padding: 0 0 0 0;\n",
              "      width: 32px;\n",
              "    }\n",
              "\n",
              "    .colab-df-convert:hover {\n",
              "      background-color: #E2EBFA;\n",
              "      box-shadow: 0px 1px 2px rgba(60, 64, 67, 0.3), 0px 1px 3px 1px rgba(60, 64, 67, 0.15);\n",
              "      fill: #174EA6;\n",
              "    }\n",
              "\n",
              "    .colab-df-buttons div {\n",
              "      margin-bottom: 4px;\n",
              "    }\n",
              "\n",
              "    [theme=dark] .colab-df-convert {\n",
              "      background-color: #3B4455;\n",
              "      fill: #D2E3FC;\n",
              "    }\n",
              "\n",
              "    [theme=dark] .colab-df-convert:hover {\n",
              "      background-color: #434B5C;\n",
              "      box-shadow: 0px 1px 3px 1px rgba(0, 0, 0, 0.15);\n",
              "      filter: drop-shadow(0px 1px 2px rgba(0, 0, 0, 0.3));\n",
              "      fill: #FFFFFF;\n",
              "    }\n",
              "  </style>\n",
              "\n",
              "    <script>\n",
              "      const buttonEl =\n",
              "        document.querySelector('#df-106b83d8-a29e-460a-82e5-11fd59bf58dc button.colab-df-convert');\n",
              "      buttonEl.style.display =\n",
              "        google.colab.kernel.accessAllowed ? 'block' : 'none';\n",
              "\n",
              "      async function convertToInteractive(key) {\n",
              "        const element = document.querySelector('#df-106b83d8-a29e-460a-82e5-11fd59bf58dc');\n",
              "        const dataTable =\n",
              "          await google.colab.kernel.invokeFunction('convertToInteractive',\n",
              "                                                    [key], {});\n",
              "        if (!dataTable) return;\n",
              "\n",
              "        const docLinkHtml = 'Like what you see? Visit the ' +\n",
              "          '<a target=\"_blank\" href=https://colab.research.google.com/notebooks/data_table.ipynb>data table notebook</a>'\n",
              "          + ' to learn more about interactive tables.';\n",
              "        element.innerHTML = '';\n",
              "        dataTable['output_type'] = 'display_data';\n",
              "        await google.colab.output.renderOutput(dataTable, element);\n",
              "        const docLink = document.createElement('div');\n",
              "        docLink.innerHTML = docLinkHtml;\n",
              "        element.appendChild(docLink);\n",
              "      }\n",
              "    </script>\n",
              "  </div>\n",
              "\n",
              "\n",
              "<div id=\"df-173f0303-c361-4e28-9f27-e3ea3b07402a\">\n",
              "  <button class=\"colab-df-quickchart\" onclick=\"quickchart('df-173f0303-c361-4e28-9f27-e3ea3b07402a')\"\n",
              "            title=\"Suggest charts\"\n",
              "            style=\"display:none;\">\n",
              "\n",
              "<svg xmlns=\"http://www.w3.org/2000/svg\" height=\"24px\"viewBox=\"0 0 24 24\"\n",
              "     width=\"24px\">\n",
              "    <g>\n",
              "        <path d=\"M19 3H5c-1.1 0-2 .9-2 2v14c0 1.1.9 2 2 2h14c1.1 0 2-.9 2-2V5c0-1.1-.9-2-2-2zM9 17H7v-7h2v7zm4 0h-2V7h2v10zm4 0h-2v-4h2v4z\"/>\n",
              "    </g>\n",
              "</svg>\n",
              "  </button>\n",
              "\n",
              "<style>\n",
              "  .colab-df-quickchart {\n",
              "      --bg-color: #E8F0FE;\n",
              "      --fill-color: #1967D2;\n",
              "      --hover-bg-color: #E2EBFA;\n",
              "      --hover-fill-color: #174EA6;\n",
              "      --disabled-fill-color: #AAA;\n",
              "      --disabled-bg-color: #DDD;\n",
              "  }\n",
              "\n",
              "  [theme=dark] .colab-df-quickchart {\n",
              "      --bg-color: #3B4455;\n",
              "      --fill-color: #D2E3FC;\n",
              "      --hover-bg-color: #434B5C;\n",
              "      --hover-fill-color: #FFFFFF;\n",
              "      --disabled-bg-color: #3B4455;\n",
              "      --disabled-fill-color: #666;\n",
              "  }\n",
              "\n",
              "  .colab-df-quickchart {\n",
              "    background-color: var(--bg-color);\n",
              "    border: none;\n",
              "    border-radius: 50%;\n",
              "    cursor: pointer;\n",
              "    display: none;\n",
              "    fill: var(--fill-color);\n",
              "    height: 32px;\n",
              "    padding: 0;\n",
              "    width: 32px;\n",
              "  }\n",
              "\n",
              "  .colab-df-quickchart:hover {\n",
              "    background-color: var(--hover-bg-color);\n",
              "    box-shadow: 0 1px 2px rgba(60, 64, 67, 0.3), 0 1px 3px 1px rgba(60, 64, 67, 0.15);\n",
              "    fill: var(--button-hover-fill-color);\n",
              "  }\n",
              "\n",
              "  .colab-df-quickchart-complete:disabled,\n",
              "  .colab-df-quickchart-complete:disabled:hover {\n",
              "    background-color: var(--disabled-bg-color);\n",
              "    fill: var(--disabled-fill-color);\n",
              "    box-shadow: none;\n",
              "  }\n",
              "\n",
              "  .colab-df-spinner {\n",
              "    border: 2px solid var(--fill-color);\n",
              "    border-color: transparent;\n",
              "    border-bottom-color: var(--fill-color);\n",
              "    animation:\n",
              "      spin 1s steps(1) infinite;\n",
              "  }\n",
              "\n",
              "  @keyframes spin {\n",
              "    0% {\n",
              "      border-color: transparent;\n",
              "      border-bottom-color: var(--fill-color);\n",
              "      border-left-color: var(--fill-color);\n",
              "    }\n",
              "    20% {\n",
              "      border-color: transparent;\n",
              "      border-left-color: var(--fill-color);\n",
              "      border-top-color: var(--fill-color);\n",
              "    }\n",
              "    30% {\n",
              "      border-color: transparent;\n",
              "      border-left-color: var(--fill-color);\n",
              "      border-top-color: var(--fill-color);\n",
              "      border-right-color: var(--fill-color);\n",
              "    }\n",
              "    40% {\n",
              "      border-color: transparent;\n",
              "      border-right-color: var(--fill-color);\n",
              "      border-top-color: var(--fill-color);\n",
              "    }\n",
              "    60% {\n",
              "      border-color: transparent;\n",
              "      border-right-color: var(--fill-color);\n",
              "    }\n",
              "    80% {\n",
              "      border-color: transparent;\n",
              "      border-right-color: var(--fill-color);\n",
              "      border-bottom-color: var(--fill-color);\n",
              "    }\n",
              "    90% {\n",
              "      border-color: transparent;\n",
              "      border-bottom-color: var(--fill-color);\n",
              "    }\n",
              "  }\n",
              "</style>\n",
              "\n",
              "  <script>\n",
              "    async function quickchart(key) {\n",
              "      const quickchartButtonEl =\n",
              "        document.querySelector('#' + key + ' button');\n",
              "      quickchartButtonEl.disabled = true;  // To prevent multiple clicks.\n",
              "      quickchartButtonEl.classList.add('colab-df-spinner');\n",
              "      try {\n",
              "        const charts = await google.colab.kernel.invokeFunction(\n",
              "            'suggestCharts', [key], {});\n",
              "      } catch (error) {\n",
              "        console.error('Error during call to suggestCharts:', error);\n",
              "      }\n",
              "      quickchartButtonEl.classList.remove('colab-df-spinner');\n",
              "      quickchartButtonEl.classList.add('colab-df-quickchart-complete');\n",
              "    }\n",
              "    (() => {\n",
              "      let quickchartButtonEl =\n",
              "        document.querySelector('#df-173f0303-c361-4e28-9f27-e3ea3b07402a button');\n",
              "      quickchartButtonEl.style.display =\n",
              "        google.colab.kernel.accessAllowed ? 'block' : 'none';\n",
              "    })();\n",
              "  </script>\n",
              "</div>\n",
              "\n",
              "    </div>\n",
              "  </div>\n"
            ],
            "application/vnd.google.colaboratory.intrinsic+json": {
              "type": "dataframe",
              "variable_name": "df",
              "summary": "{\n  \"name\": \"df\",\n  \"rows\": 11931,\n  \"fields\": [\n    {\n      \"column\": \"text\",\n      \"properties\": {\n        \"dtype\": \"string\",\n        \"num_unique_values\": 11808,\n        \"samples\": [\n          \"$mrvl - marvell: making the transition with mixed results. get more info on seeking alpha:  \",\n          \"arcelormittal, commissioners extend talks on ilva plant - reuters\",\n          \"eskom yields fall as restructure chief says debt plan days away\"\n        ],\n        \"semantic_type\": \"\",\n        \"description\": \"\"\n      }\n    },\n    {\n      \"column\": \"label\",\n      \"properties\": {\n        \"dtype\": \"number\",\n        \"std\": 0,\n        \"min\": 0,\n        \"max\": 2,\n        \"num_unique_values\": 3,\n        \"samples\": [\n          0,\n          1,\n          2\n        ],\n        \"semantic_type\": \"\",\n        \"description\": \"\"\n      }\n    },\n    {\n      \"column\": \"urls\",\n      \"properties\": {\n        \"dtype\": \"object\",\n        \"semantic_type\": \"\",\n        \"description\": \"\"\n      }\n    }\n  ]\n}"
            }
          },
          "metadata": {},
          "execution_count": 36
        }
      ]
    },
    {
      "cell_type": "code",
      "source": [
        "# prompt: Test the df[\"text\"] for uppercase letters\n",
        "\n",
        "import pandas as pd\n",
        "import re\n",
        "\n",
        "# Assuming df is already loaded and processed as in the previous code\n",
        "\n",
        "def has_uppercase(text):\n",
        "    return any(c.isupper() for c in text)\n",
        "\n",
        "df[\"has_uppercase\"] = df[\"text\"].apply(has_uppercase)\n",
        "print(df[df[\"has_uppercase\"]])"
      ],
      "metadata": {
        "colab": {
          "base_uri": "https://localhost:8080/"
        },
        "id": "sFoJLEb2Aio1",
        "outputId": "b828d548-d1a0-4d78-cc6b-c65c8055ce3b"
      },
      "execution_count": null,
      "outputs": [
        {
          "output_type": "stream",
          "name": "stdout",
          "text": [
            "Empty DataFrame\n",
            "Columns: [text, label, urls, has_uppercase]\n",
            "Index: []\n"
          ]
        }
      ]
    },
    {
      "cell_type": "markdown",
      "source": [
        "###Expanding Contractions"
      ],
      "metadata": {
        "id": "0n-hb5DIqkdW"
      }
    },
    {
      "cell_type": "code",
      "source": [
        "!pip install contractions"
      ],
      "metadata": {
        "colab": {
          "base_uri": "https://localhost:8080/"
        },
        "id": "7UUWduoVIVCw",
        "outputId": "239cb176-8e40-4e5b-c408-aab068cd0e3c"
      },
      "execution_count": null,
      "outputs": [
        {
          "output_type": "stream",
          "name": "stdout",
          "text": [
            "Requirement already satisfied: contractions in /usr/local/lib/python3.10/dist-packages (0.1.73)\n",
            "Requirement already satisfied: textsearch>=0.0.21 in /usr/local/lib/python3.10/dist-packages (from contractions) (0.0.24)\n",
            "Requirement already satisfied: anyascii in /usr/local/lib/python3.10/dist-packages (from textsearch>=0.0.21->contractions) (0.3.2)\n",
            "Requirement already satisfied: pyahocorasick in /usr/local/lib/python3.10/dist-packages (from textsearch>=0.0.21->contractions) (2.1.0)\n"
          ]
        }
      ]
    },
    {
      "cell_type": "code",
      "source": [
        "# prompt: Expand contractions in df[\"text\"]\n",
        "\n",
        "\n",
        "import pandas as pd\n",
        "import re\n",
        "import contractions\n",
        "\n",
        "# ... (previous code)\n",
        "\n",
        "def expand_contractions(text):\n",
        "    return contractions.fix(text)\n",
        "\n",
        "df[\"text\"] = df[\"text\"].apply(expand_contractions)\n",
        "df.head(10)"
      ],
      "metadata": {
        "colab": {
          "base_uri": "https://localhost:8080/",
          "height": 363
        },
        "id": "m7Jxpi5gHsel",
        "outputId": "b84a68fd-30a6-4dec-9218-973701e6a07e"
      },
      "execution_count": null,
      "outputs": [
        {
          "output_type": "execute_result",
          "data": {
            "text/plain": [
              "                                                text  label urls  \\\n",
              "0  $bynd - jpmorgan reels in expectations on beyo...      0   []   \n",
              "1  $ccl $rcl - nomura points to bookings weakness...      0   []   \n",
              "2  $cx - cemex cut at credit suisse, j.p. morgan ...      0   []   \n",
              "3               $ess: btig research cuts to neutral       0   []   \n",
              "4   $fnko - funko slides after piper jaffray pt cut       0   []   \n",
              "5  $fti - technipfmc downgraded at berenberg but ...      0   []   \n",
              "6                             $gm - gm loses a bull       0   []   \n",
              "7                   $gm: deutsche bank cuts to hold       0   []   \n",
              "8                 $gtt: cowen cuts to market perform      0   []   \n",
              "9  $hnhaf $hnhpd $aapl - trendforce cuts iphone e...      0   []   \n",
              "\n",
              "   has_uppercase  \n",
              "0          False  \n",
              "1          False  \n",
              "2          False  \n",
              "3          False  \n",
              "4          False  \n",
              "5          False  \n",
              "6          False  \n",
              "7          False  \n",
              "8          False  \n",
              "9          False  "
            ],
            "text/html": [
              "\n",
              "  <div id=\"df-946c511f-e84c-4e58-a542-6bb4ac3d2ce6\" class=\"colab-df-container\">\n",
              "    <div>\n",
              "<style scoped>\n",
              "    .dataframe tbody tr th:only-of-type {\n",
              "        vertical-align: middle;\n",
              "    }\n",
              "\n",
              "    .dataframe tbody tr th {\n",
              "        vertical-align: top;\n",
              "    }\n",
              "\n",
              "    .dataframe thead th {\n",
              "        text-align: right;\n",
              "    }\n",
              "</style>\n",
              "<table border=\"1\" class=\"dataframe\">\n",
              "  <thead>\n",
              "    <tr style=\"text-align: right;\">\n",
              "      <th></th>\n",
              "      <th>text</th>\n",
              "      <th>label</th>\n",
              "      <th>urls</th>\n",
              "      <th>has_uppercase</th>\n",
              "    </tr>\n",
              "  </thead>\n",
              "  <tbody>\n",
              "    <tr>\n",
              "      <th>0</th>\n",
              "      <td>$bynd - jpmorgan reels in expectations on beyo...</td>\n",
              "      <td>0</td>\n",
              "      <td>[]</td>\n",
              "      <td>False</td>\n",
              "    </tr>\n",
              "    <tr>\n",
              "      <th>1</th>\n",
              "      <td>$ccl $rcl - nomura points to bookings weakness...</td>\n",
              "      <td>0</td>\n",
              "      <td>[]</td>\n",
              "      <td>False</td>\n",
              "    </tr>\n",
              "    <tr>\n",
              "      <th>2</th>\n",
              "      <td>$cx - cemex cut at credit suisse, j.p. morgan ...</td>\n",
              "      <td>0</td>\n",
              "      <td>[]</td>\n",
              "      <td>False</td>\n",
              "    </tr>\n",
              "    <tr>\n",
              "      <th>3</th>\n",
              "      <td>$ess: btig research cuts to neutral</td>\n",
              "      <td>0</td>\n",
              "      <td>[]</td>\n",
              "      <td>False</td>\n",
              "    </tr>\n",
              "    <tr>\n",
              "      <th>4</th>\n",
              "      <td>$fnko - funko slides after piper jaffray pt cut</td>\n",
              "      <td>0</td>\n",
              "      <td>[]</td>\n",
              "      <td>False</td>\n",
              "    </tr>\n",
              "    <tr>\n",
              "      <th>5</th>\n",
              "      <td>$fti - technipfmc downgraded at berenberg but ...</td>\n",
              "      <td>0</td>\n",
              "      <td>[]</td>\n",
              "      <td>False</td>\n",
              "    </tr>\n",
              "    <tr>\n",
              "      <th>6</th>\n",
              "      <td>$gm - gm loses a bull</td>\n",
              "      <td>0</td>\n",
              "      <td>[]</td>\n",
              "      <td>False</td>\n",
              "    </tr>\n",
              "    <tr>\n",
              "      <th>7</th>\n",
              "      <td>$gm: deutsche bank cuts to hold</td>\n",
              "      <td>0</td>\n",
              "      <td>[]</td>\n",
              "      <td>False</td>\n",
              "    </tr>\n",
              "    <tr>\n",
              "      <th>8</th>\n",
              "      <td>$gtt: cowen cuts to market perform</td>\n",
              "      <td>0</td>\n",
              "      <td>[]</td>\n",
              "      <td>False</td>\n",
              "    </tr>\n",
              "    <tr>\n",
              "      <th>9</th>\n",
              "      <td>$hnhaf $hnhpd $aapl - trendforce cuts iphone e...</td>\n",
              "      <td>0</td>\n",
              "      <td>[]</td>\n",
              "      <td>False</td>\n",
              "    </tr>\n",
              "  </tbody>\n",
              "</table>\n",
              "</div>\n",
              "    <div class=\"colab-df-buttons\">\n",
              "\n",
              "  <div class=\"colab-df-container\">\n",
              "    <button class=\"colab-df-convert\" onclick=\"convertToInteractive('df-946c511f-e84c-4e58-a542-6bb4ac3d2ce6')\"\n",
              "            title=\"Convert this dataframe to an interactive table.\"\n",
              "            style=\"display:none;\">\n",
              "\n",
              "  <svg xmlns=\"http://www.w3.org/2000/svg\" height=\"24px\" viewBox=\"0 -960 960 960\">\n",
              "    <path d=\"M120-120v-720h720v720H120Zm60-500h600v-160H180v160Zm220 220h160v-160H400v160Zm0 220h160v-160H400v160ZM180-400h160v-160H180v160Zm440 0h160v-160H620v160ZM180-180h160v-160H180v160Zm440 0h160v-160H620v160Z\"/>\n",
              "  </svg>\n",
              "    </button>\n",
              "\n",
              "  <style>\n",
              "    .colab-df-container {\n",
              "      display:flex;\n",
              "      gap: 12px;\n",
              "    }\n",
              "\n",
              "    .colab-df-convert {\n",
              "      background-color: #E8F0FE;\n",
              "      border: none;\n",
              "      border-radius: 50%;\n",
              "      cursor: pointer;\n",
              "      display: none;\n",
              "      fill: #1967D2;\n",
              "      height: 32px;\n",
              "      padding: 0 0 0 0;\n",
              "      width: 32px;\n",
              "    }\n",
              "\n",
              "    .colab-df-convert:hover {\n",
              "      background-color: #E2EBFA;\n",
              "      box-shadow: 0px 1px 2px rgba(60, 64, 67, 0.3), 0px 1px 3px 1px rgba(60, 64, 67, 0.15);\n",
              "      fill: #174EA6;\n",
              "    }\n",
              "\n",
              "    .colab-df-buttons div {\n",
              "      margin-bottom: 4px;\n",
              "    }\n",
              "\n",
              "    [theme=dark] .colab-df-convert {\n",
              "      background-color: #3B4455;\n",
              "      fill: #D2E3FC;\n",
              "    }\n",
              "\n",
              "    [theme=dark] .colab-df-convert:hover {\n",
              "      background-color: #434B5C;\n",
              "      box-shadow: 0px 1px 3px 1px rgba(0, 0, 0, 0.15);\n",
              "      filter: drop-shadow(0px 1px 2px rgba(0, 0, 0, 0.3));\n",
              "      fill: #FFFFFF;\n",
              "    }\n",
              "  </style>\n",
              "\n",
              "    <script>\n",
              "      const buttonEl =\n",
              "        document.querySelector('#df-946c511f-e84c-4e58-a542-6bb4ac3d2ce6 button.colab-df-convert');\n",
              "      buttonEl.style.display =\n",
              "        google.colab.kernel.accessAllowed ? 'block' : 'none';\n",
              "\n",
              "      async function convertToInteractive(key) {\n",
              "        const element = document.querySelector('#df-946c511f-e84c-4e58-a542-6bb4ac3d2ce6');\n",
              "        const dataTable =\n",
              "          await google.colab.kernel.invokeFunction('convertToInteractive',\n",
              "                                                    [key], {});\n",
              "        if (!dataTable) return;\n",
              "\n",
              "        const docLinkHtml = 'Like what you see? Visit the ' +\n",
              "          '<a target=\"_blank\" href=https://colab.research.google.com/notebooks/data_table.ipynb>data table notebook</a>'\n",
              "          + ' to learn more about interactive tables.';\n",
              "        element.innerHTML = '';\n",
              "        dataTable['output_type'] = 'display_data';\n",
              "        await google.colab.output.renderOutput(dataTable, element);\n",
              "        const docLink = document.createElement('div');\n",
              "        docLink.innerHTML = docLinkHtml;\n",
              "        element.appendChild(docLink);\n",
              "      }\n",
              "    </script>\n",
              "  </div>\n",
              "\n",
              "\n",
              "<div id=\"df-7f95b97f-b67d-4ccd-819c-d60e1f7f70f3\">\n",
              "  <button class=\"colab-df-quickchart\" onclick=\"quickchart('df-7f95b97f-b67d-4ccd-819c-d60e1f7f70f3')\"\n",
              "            title=\"Suggest charts\"\n",
              "            style=\"display:none;\">\n",
              "\n",
              "<svg xmlns=\"http://www.w3.org/2000/svg\" height=\"24px\"viewBox=\"0 0 24 24\"\n",
              "     width=\"24px\">\n",
              "    <g>\n",
              "        <path d=\"M19 3H5c-1.1 0-2 .9-2 2v14c0 1.1.9 2 2 2h14c1.1 0 2-.9 2-2V5c0-1.1-.9-2-2-2zM9 17H7v-7h2v7zm4 0h-2V7h2v10zm4 0h-2v-4h2v4z\"/>\n",
              "    </g>\n",
              "</svg>\n",
              "  </button>\n",
              "\n",
              "<style>\n",
              "  .colab-df-quickchart {\n",
              "      --bg-color: #E8F0FE;\n",
              "      --fill-color: #1967D2;\n",
              "      --hover-bg-color: #E2EBFA;\n",
              "      --hover-fill-color: #174EA6;\n",
              "      --disabled-fill-color: #AAA;\n",
              "      --disabled-bg-color: #DDD;\n",
              "  }\n",
              "\n",
              "  [theme=dark] .colab-df-quickchart {\n",
              "      --bg-color: #3B4455;\n",
              "      --fill-color: #D2E3FC;\n",
              "      --hover-bg-color: #434B5C;\n",
              "      --hover-fill-color: #FFFFFF;\n",
              "      --disabled-bg-color: #3B4455;\n",
              "      --disabled-fill-color: #666;\n",
              "  }\n",
              "\n",
              "  .colab-df-quickchart {\n",
              "    background-color: var(--bg-color);\n",
              "    border: none;\n",
              "    border-radius: 50%;\n",
              "    cursor: pointer;\n",
              "    display: none;\n",
              "    fill: var(--fill-color);\n",
              "    height: 32px;\n",
              "    padding: 0;\n",
              "    width: 32px;\n",
              "  }\n",
              "\n",
              "  .colab-df-quickchart:hover {\n",
              "    background-color: var(--hover-bg-color);\n",
              "    box-shadow: 0 1px 2px rgba(60, 64, 67, 0.3), 0 1px 3px 1px rgba(60, 64, 67, 0.15);\n",
              "    fill: var(--button-hover-fill-color);\n",
              "  }\n",
              "\n",
              "  .colab-df-quickchart-complete:disabled,\n",
              "  .colab-df-quickchart-complete:disabled:hover {\n",
              "    background-color: var(--disabled-bg-color);\n",
              "    fill: var(--disabled-fill-color);\n",
              "    box-shadow: none;\n",
              "  }\n",
              "\n",
              "  .colab-df-spinner {\n",
              "    border: 2px solid var(--fill-color);\n",
              "    border-color: transparent;\n",
              "    border-bottom-color: var(--fill-color);\n",
              "    animation:\n",
              "      spin 1s steps(1) infinite;\n",
              "  }\n",
              "\n",
              "  @keyframes spin {\n",
              "    0% {\n",
              "      border-color: transparent;\n",
              "      border-bottom-color: var(--fill-color);\n",
              "      border-left-color: var(--fill-color);\n",
              "    }\n",
              "    20% {\n",
              "      border-color: transparent;\n",
              "      border-left-color: var(--fill-color);\n",
              "      border-top-color: var(--fill-color);\n",
              "    }\n",
              "    30% {\n",
              "      border-color: transparent;\n",
              "      border-left-color: var(--fill-color);\n",
              "      border-top-color: var(--fill-color);\n",
              "      border-right-color: var(--fill-color);\n",
              "    }\n",
              "    40% {\n",
              "      border-color: transparent;\n",
              "      border-right-color: var(--fill-color);\n",
              "      border-top-color: var(--fill-color);\n",
              "    }\n",
              "    60% {\n",
              "      border-color: transparent;\n",
              "      border-right-color: var(--fill-color);\n",
              "    }\n",
              "    80% {\n",
              "      border-color: transparent;\n",
              "      border-right-color: var(--fill-color);\n",
              "      border-bottom-color: var(--fill-color);\n",
              "    }\n",
              "    90% {\n",
              "      border-color: transparent;\n",
              "      border-bottom-color: var(--fill-color);\n",
              "    }\n",
              "  }\n",
              "</style>\n",
              "\n",
              "  <script>\n",
              "    async function quickchart(key) {\n",
              "      const quickchartButtonEl =\n",
              "        document.querySelector('#' + key + ' button');\n",
              "      quickchartButtonEl.disabled = true;  // To prevent multiple clicks.\n",
              "      quickchartButtonEl.classList.add('colab-df-spinner');\n",
              "      try {\n",
              "        const charts = await google.colab.kernel.invokeFunction(\n",
              "            'suggestCharts', [key], {});\n",
              "      } catch (error) {\n",
              "        console.error('Error during call to suggestCharts:', error);\n",
              "      }\n",
              "      quickchartButtonEl.classList.remove('colab-df-spinner');\n",
              "      quickchartButtonEl.classList.add('colab-df-quickchart-complete');\n",
              "    }\n",
              "    (() => {\n",
              "      let quickchartButtonEl =\n",
              "        document.querySelector('#df-7f95b97f-b67d-4ccd-819c-d60e1f7f70f3 button');\n",
              "      quickchartButtonEl.style.display =\n",
              "        google.colab.kernel.accessAllowed ? 'block' : 'none';\n",
              "    })();\n",
              "  </script>\n",
              "</div>\n",
              "\n",
              "    </div>\n",
              "  </div>\n"
            ],
            "application/vnd.google.colaboratory.intrinsic+json": {
              "type": "dataframe",
              "variable_name": "df",
              "summary": "{\n  \"name\": \"df\",\n  \"rows\": 11931,\n  \"fields\": [\n    {\n      \"column\": \"text\",\n      \"properties\": {\n        \"dtype\": \"string\",\n        \"num_unique_values\": 11803,\n        \"samples\": [\n          \"$repyf - repsol's excellent opportunity to buy in to cop's alaska development. get more info on seeking alpha:\\u2026 \",\n          \"exploration deepens into central bank digital currencies\",\n          \"stock market crashes happen more than you think. the key to surviving them is being prepared.  \"\n        ],\n        \"semantic_type\": \"\",\n        \"description\": \"\"\n      }\n    },\n    {\n      \"column\": \"label\",\n      \"properties\": {\n        \"dtype\": \"number\",\n        \"std\": 0,\n        \"min\": 0,\n        \"max\": 2,\n        \"num_unique_values\": 3,\n        \"samples\": [\n          0,\n          1,\n          2\n        ],\n        \"semantic_type\": \"\",\n        \"description\": \"\"\n      }\n    },\n    {\n      \"column\": \"urls\",\n      \"properties\": {\n        \"dtype\": \"object\",\n        \"semantic_type\": \"\",\n        \"description\": \"\"\n      }\n    },\n    {\n      \"column\": \"has_uppercase\",\n      \"properties\": {\n        \"dtype\": \"boolean\",\n        \"num_unique_values\": 1,\n        \"samples\": [\n          false\n        ],\n        \"semantic_type\": \"\",\n        \"description\": \"\"\n      }\n    }\n  ]\n}"
            }
          },
          "metadata": {},
          "execution_count": 39
        }
      ]
    },
    {
      "cell_type": "markdown",
      "source": [
        "###Removing ' character"
      ],
      "metadata": {
        "id": "yJd-4TyQq2NI"
      }
    },
    {
      "cell_type": "code",
      "source": [
        "# prompt: Check df[\"text\"] if it contains any ' characters\n",
        "\n",
        "def contains_single_quotes(text):\n",
        "  return \"'\" in text\n",
        "\n",
        "df[\"contains_single_quotes\"] = df[\"text\"].apply(contains_single_quotes)\n",
        "print(df[df[\"contains_single_quotes\"]])"
      ],
      "metadata": {
        "colab": {
          "base_uri": "https://localhost:8080/"
        },
        "id": "P7CGmHDaIdCV",
        "outputId": "bc6dba90-14c7-4e59-bdd9-5941028f8e5d"
      },
      "execution_count": null,
      "outputs": [
        {
          "output_type": "stream",
          "name": "stdout",
          "text": [
            "                                                   text  label urls  \\\n",
            "10             $hog - moody's warns on harley-davidson       0   []   \n",
            "25    $vclt $splb $iglb - guggenheim's minerd sees m...      0   []   \n",
            "33    analysts question silicon motion's margin outlook      0   []   \n",
            "51    children's place downgraded as e-commerce puts...      0   []   \n",
            "52    children's place price target cut to $80 from ...      0   []   \n",
            "...                                                 ...    ...  ...   \n",
            "2362  splunk sees its biggest surge in a year after ...      1   []   \n",
            "2366  tesla's stock ticks up after deutsche bank lif...      1   []   \n",
            "2369  unisys's stock soars 16% premarket after sale ...      1   []   \n",
            "2371          $scanx: today's biggest % gainers/losers       2   []   \n",
            "2385  stocks making the biggest moves premarket: hom...      2   []   \n",
            "\n",
            "      has_uppercase  contains_single_quotes  \n",
            "10            False                    True  \n",
            "25            False                    True  \n",
            "33            False                    True  \n",
            "51            False                    True  \n",
            "52            False                    True  \n",
            "...             ...                     ...  \n",
            "2362          False                    True  \n",
            "2366          False                    True  \n",
            "2369          False                    True  \n",
            "2371          False                    True  \n",
            "2385          False                    True  \n",
            "\n",
            "[1469 rows x 5 columns]\n"
          ]
        }
      ]
    },
    {
      "cell_type": "markdown",
      "source": [
        "###Removing Punctuation"
      ],
      "metadata": {
        "id": "fkY11Bgiq_Cq"
      }
    },
    {
      "cell_type": "code",
      "source": [
        "# prompt: Remove all punctuation from df[\"text\"]\n",
        "\n",
        "import string\n",
        "\n",
        "def remove_punctuation(text):\n",
        "  return text.translate(str.maketrans('', '', string.punctuation))\n",
        "\n",
        "df[\"text\"] = df[\"text\"].apply(remove_punctuation)"
      ],
      "metadata": {
        "id": "B7GxgMx3BNLp"
      },
      "execution_count": null,
      "outputs": []
    },
    {
      "cell_type": "code",
      "source": [
        "# prompt: test df[\"text\"] for punctuation\n",
        "\n",
        "def has_punctuation(text):\n",
        "    return any(c in string.punctuation for c in text)\n",
        "\n",
        "df[\"has_punctuation\"] = df[\"text\"].apply(has_punctuation)\n",
        "print(df[df[\"has_punctuation\"]])"
      ],
      "metadata": {
        "colab": {
          "base_uri": "https://localhost:8080/"
        },
        "id": "4scxFLkyCL5K",
        "outputId": "f9010412-c056-46b2-d3b7-50f03675e7f8"
      },
      "execution_count": null,
      "outputs": [
        {
          "output_type": "stream",
          "name": "stdout",
          "text": [
            "Empty DataFrame\n",
            "Columns: [text, label, urls, has_uppercase, contains_single_quotes, has_punctuation]\n",
            "Index: []\n"
          ]
        }
      ]
    },
    {
      "cell_type": "markdown",
      "source": [
        "###Removing Stopwords"
      ],
      "metadata": {
        "id": "rLsBu2_2rDDg"
      }
    },
    {
      "cell_type": "code",
      "source": [
        "# prompt: Remove all stopwords from df[\"text\"]\n",
        "\n",
        "!pip install nltk\n",
        "\n",
        "import nltk\n",
        "nltk.download('stopwords')\n",
        "from nltk.corpus import stopwords\n",
        "\n",
        "stop_words = set(stopwords.words('english'))\n",
        "\n",
        "def remove_stopwords(text):\n",
        "    words = text.split()\n",
        "    filtered_words = [word for word in words if word.lower() not in stop_words]\n",
        "    return \" \".join(filtered_words)\n",
        "\n",
        "df[\"text\"] = df[\"text\"].apply(remove_stopwords)"
      ],
      "metadata": {
        "colab": {
          "base_uri": "https://localhost:8080/"
        },
        "id": "NKWpGqapCb9X",
        "outputId": "e26bfc27-f1b1-4728-d02b-6f988d525dad"
      },
      "execution_count": null,
      "outputs": [
        {
          "output_type": "stream",
          "name": "stdout",
          "text": [
            "Requirement already satisfied: nltk in /usr/local/lib/python3.10/dist-packages (3.9.1)\n",
            "Requirement already satisfied: click in /usr/local/lib/python3.10/dist-packages (from nltk) (8.1.7)\n",
            "Requirement already satisfied: joblib in /usr/local/lib/python3.10/dist-packages (from nltk) (1.4.2)\n",
            "Requirement already satisfied: regex>=2021.8.3 in /usr/local/lib/python3.10/dist-packages (from nltk) (2024.9.11)\n",
            "Requirement already satisfied: tqdm in /usr/local/lib/python3.10/dist-packages (from nltk) (4.66.6)\n"
          ]
        },
        {
          "output_type": "stream",
          "name": "stderr",
          "text": [
            "[nltk_data] Downloading package stopwords to /root/nltk_data...\n",
            "[nltk_data]   Package stopwords is already up-to-date!\n"
          ]
        }
      ]
    },
    {
      "cell_type": "code",
      "source": [
        "# prompt: Test df[\"text\"] for stopwords\n",
        "\n",
        "def contains_stopwords(text):\n",
        "    words = text.split()\n",
        "    for word in words:\n",
        "        if word.lower() in stop_words:\n",
        "            return True\n",
        "    return False\n",
        "\n",
        "df[\"contains_stopwords\"] = df[\"text\"].apply(contains_stopwords)\n",
        "print(df[df[\"contains_stopwords\"]])"
      ],
      "metadata": {
        "colab": {
          "base_uri": "https://localhost:8080/"
        },
        "id": "HncAFCAiCsxd",
        "outputId": "121b5423-a30f-4853-b84a-1770a4ffc904"
      },
      "execution_count": null,
      "outputs": [
        {
          "output_type": "stream",
          "name": "stdout",
          "text": [
            "Empty DataFrame\n",
            "Columns: [text, label, urls, has_uppercase, contains_single_quotes, has_punctuation, contains_stopwords]\n",
            "Index: []\n"
          ]
        }
      ]
    },
    {
      "cell_type": "markdown",
      "source": [
        "###Stemming"
      ],
      "metadata": {
        "id": "PVGCyl5rrI-B"
      }
    },
    {
      "cell_type": "code",
      "source": [
        "# prompt: Apply stemming on df[\"text\"]\n",
        "\n",
        "from nltk.stem import PorterStemmer\n",
        "\n",
        "nltk.download('punkt_tab') # Download punkt if not already downloaded\n",
        "\n",
        "stemmer = PorterStemmer()\n",
        "\n",
        "def stem_text(text):\n",
        "    words = nltk.word_tokenize(text)\n",
        "    stemmed_words = [stemmer.stem(word) for word in words]\n",
        "    return \" \".join(stemmed_words)\n",
        "\n",
        "df[\"text\"] = df[\"text\"].apply(stem_text)"
      ],
      "metadata": {
        "colab": {
          "base_uri": "https://localhost:8080/"
        },
        "id": "C1VnaFxnDIft",
        "outputId": "2e64b5d8-1247-495f-a855-f7ef20db4dec"
      },
      "execution_count": null,
      "outputs": [
        {
          "output_type": "stream",
          "name": "stderr",
          "text": [
            "[nltk_data] Downloading package punkt_tab to /root/nltk_data...\n",
            "[nltk_data]   Package punkt_tab is already up-to-date!\n"
          ]
        }
      ]
    },
    {
      "cell_type": "code",
      "source": [
        "# prompt: write code to check if the stemming was succesful\n",
        "\n",
        "# Check if stemming was successful by comparing original and stemmed text\n",
        "# (This is a basic check; more sophisticated methods might be needed\n",
        "# depending on your specific stemming goals.)\n",
        "\n",
        "def compare_original_stemmed(original_text, stemmed_text):\n",
        "    original_words = nltk.word_tokenize(original_text)\n",
        "    stemmed_words = nltk.word_tokenize(stemmed_text)\n",
        "\n",
        "    #Check if any word changed after stemming\n",
        "    return original_words != stemmed_words\n",
        "\n",
        "# Assuming you have a backup of the original text column\n",
        "# e.g. df[\"original_text\"]\n",
        "# Replace \"original_text\" with your original text column name\n",
        "\n",
        "if 'text' not in df.columns:\n",
        "  print(\"Warning: 'original_text' column not found. Please create a backup of your original text before stemming\")\n",
        "\n",
        "else:\n",
        "  df['stemming_applied'] = df.apply(lambda row: compare_original_stemmed(row['text'], row['text']), axis=1)\n",
        "  print(df[df['stemming_applied']])\n",
        "\n",
        "  #Example: count how many rows had any stemming applied\n",
        "  print(f\"Number of rows where stemming was applied: {df['stemming_applied'].sum()}\")\n",
        "\n",
        "#df.head(10)"
      ],
      "metadata": {
        "colab": {
          "base_uri": "https://localhost:8080/"
        },
        "id": "b6VmpaaWEAbQ",
        "outputId": "5056ff7c-4ae0-40f3-ac65-d82968ac2032"
      },
      "execution_count": null,
      "outputs": [
        {
          "output_type": "stream",
          "name": "stdout",
          "text": [
            "Empty DataFrame\n",
            "Columns: [text, label, urls, has_uppercase, contains_single_quotes, has_punctuation, contains_stopwords, stemming_applied]\n",
            "Index: []\n",
            "Number of rows where stemming was applied: 0\n"
          ]
        }
      ]
    },
    {
      "cell_type": "markdown",
      "source": [
        "###Handling Whitespaces"
      ],
      "metadata": {
        "id": "AcHDGtnkrN7c"
      }
    },
    {
      "cell_type": "code",
      "source": [
        "# prompt: Remove all unnecessary whitespace characters from df[\"text\"]\n",
        "\n",
        "def remove_whitespace(text):\n",
        "    return \" \".join(text.split())\n",
        "\n",
        "df[\"text\"] = df[\"text\"].apply(remove_whitespace)"
      ],
      "metadata": {
        "id": "bjuFfqM2Fl2r"
      },
      "execution_count": null,
      "outputs": []
    },
    {
      "cell_type": "code",
      "source": [
        "# prompt: test the df[\"text\"] if it contains any extra whitespaces\n",
        "\n",
        "def has_extra_whitespace(text):\n",
        "    return \"  \" in text\n",
        "\n",
        "df[\"has_extra_whitespace\"] = df[\"text\"].apply(has_extra_whitespace)\n",
        "print(df[df[\"has_extra_whitespace\"]])"
      ],
      "metadata": {
        "colab": {
          "base_uri": "https://localhost:8080/"
        },
        "id": "PH4R4MjtGFc8",
        "outputId": "2a0076f2-efae-4353-a0d9-9c38373fbf7f"
      },
      "execution_count": null,
      "outputs": [
        {
          "output_type": "stream",
          "name": "stdout",
          "text": [
            "Empty DataFrame\n",
            "Columns: [text, label, urls, has_uppercase, contains_single_quotes, has_punctuation, contains_stopwords, stemming_applied, has_extra_whitespace]\n",
            "Index: []\n"
          ]
        }
      ]
    },
    {
      "cell_type": "markdown",
      "source": [
        "###Removing Emoticons"
      ],
      "metadata": {
        "id": "L2oEOQbZrU6i"
      }
    },
    {
      "cell_type": "code",
      "source": [
        "# prompt: remove all emojis from a string\n",
        "\n",
        "import re\n",
        "\n",
        "def remove_emojis(text):\n",
        "    emoji_pattern = re.compile(\"[\"\n",
        "                           u\"\\U0001F600-\\U0001F64F\"  # emoticons\n",
        "                           u\"\\U0001F300-\\U0001F5FF\"  # symbols & pictographs\n",
        "                           u\"\\U0001F680-\\U0001F6FF\"  # transport & map symbols\n",
        "                           u\"\\U0001F1E0-\\U0001F1FF\"  # flags (iOS)\n",
        "                           u\"\\U00002702-\\U000027B0\"\n",
        "                           u\"\\U000024C2-\\U0001F251\"\n",
        "                           \"]+\", flags=re.UNICODE)\n",
        "    return emoji_pattern.sub(r'', text)\n",
        "\n",
        "df[\"text\"] = df[\"text\"].apply(remove_emojis)"
      ],
      "metadata": {
        "id": "2Q4rENZofu7r"
      },
      "execution_count": null,
      "outputs": []
    },
    {
      "cell_type": "code",
      "source": [
        "# prompt: test the a string if it contains any emojis\n",
        "\n",
        "def contains_emojis(text):\n",
        "    emoji_pattern = re.compile(\"[\"\n",
        "                           u\"\\U0001F600-\\U0001F64F\"  # emoticons\n",
        "                           u\"\\U0001F300-\\U0001F5FF\"  # symbols & pictographs\n",
        "                           u\"\\U0001F680-\\U0001F6FF\"  # transport & map symbols\n",
        "                           u\"\\U0001F1E0-\\U0001F1FF\"  # flags (iOS)\n",
        "                           u\"\\U00002702-\\U000027B0\"\n",
        "                           u\"\\U000024C2-\\U0001F251\"\n",
        "                           \"]+\", flags=re.UNICODE)\n",
        "    return bool(emoji_pattern.search(text))\n",
        "\n",
        "df[\"contains_emojis\"] = df[\"text\"].apply(contains_emojis)\n",
        "print(df[df[\"contains_emojis\"]])"
      ],
      "metadata": {
        "colab": {
          "base_uri": "https://localhost:8080/"
        },
        "id": "YqbCzPW-f-RM",
        "outputId": "eaf032de-1721-44a5-d7f5-417f7aaa808f"
      },
      "execution_count": null,
      "outputs": [
        {
          "output_type": "stream",
          "name": "stdout",
          "text": [
            "Empty DataFrame\n",
            "Columns: [text, label, urls, has_uppercase, contains_single_quotes, has_punctuation, contains_stopwords, stemming_applied, has_extra_whitespace, tokens, contains_emojis]\n",
            "Index: []\n"
          ]
        }
      ]
    },
    {
      "cell_type": "markdown",
      "source": [
        "##Tokenization"
      ],
      "metadata": {
        "id": "job8GWQ3IwbP"
      }
    },
    {
      "cell_type": "markdown",
      "source": [
        "![Tokenization](https://zotyag.github.io/Uni/INLP/Images/tokenizalas.webp)"
      ],
      "metadata": {
        "id": "Fh_9SnRt9UI0"
      }
    },
    {
      "cell_type": "markdown",
      "source": [
        "###BPE Tokenization"
      ],
      "metadata": {
        "id": "IOn2YCAwp80O"
      }
    },
    {
      "cell_type": "code",
      "source": [
        "# prompt: Apply the BPE tokenization algorithm on the df dataset\n",
        "\n",
        "!pip install transformers\n",
        "\n",
        "from transformers import AutoTokenizer\n",
        "\n",
        "# Load the BPE tokenizer\n",
        "tokenizer = AutoTokenizer.from_pretrained(\"gpt2\") # Or any other BPE model\n",
        "\n",
        "# Apply the tokenizer\n",
        "df['tokens'] = df['text'].apply(lambda x: tokenizer.tokenize(x))\n",
        "\n",
        "# Display some tokenized examples\n",
        "print(df[['text', 'tokens']].head())"
      ],
      "metadata": {
        "colab": {
          "base_uri": "https://localhost:8080/"
        },
        "id": "b8lqNzeXI8bM",
        "outputId": "7941bf8a-1438-4199-bc5a-2fe85221c625"
      },
      "execution_count": null,
      "outputs": [
        {
          "output_type": "stream",
          "name": "stdout",
          "text": [
            "Requirement already satisfied: transformers in /usr/local/lib/python3.10/dist-packages (4.46.3)\n",
            "Requirement already satisfied: filelock in /usr/local/lib/python3.10/dist-packages (from transformers) (3.16.1)\n",
            "Requirement already satisfied: huggingface-hub<1.0,>=0.23.2 in /usr/local/lib/python3.10/dist-packages (from transformers) (0.26.5)\n",
            "Requirement already satisfied: numpy>=1.17 in /usr/local/lib/python3.10/dist-packages (from transformers) (1.26.4)\n",
            "Requirement already satisfied: packaging>=20.0 in /usr/local/lib/python3.10/dist-packages (from transformers) (24.2)\n",
            "Requirement already satisfied: pyyaml>=5.1 in /usr/local/lib/python3.10/dist-packages (from transformers) (6.0.2)\n",
            "Requirement already satisfied: regex!=2019.12.17 in /usr/local/lib/python3.10/dist-packages (from transformers) (2024.9.11)\n",
            "Requirement already satisfied: requests in /usr/local/lib/python3.10/dist-packages (from transformers) (2.32.3)\n",
            "Requirement already satisfied: tokenizers<0.21,>=0.20 in /usr/local/lib/python3.10/dist-packages (from transformers) (0.20.3)\n",
            "Requirement already satisfied: safetensors>=0.4.1 in /usr/local/lib/python3.10/dist-packages (from transformers) (0.4.5)\n",
            "Requirement already satisfied: tqdm>=4.27 in /usr/local/lib/python3.10/dist-packages (from transformers) (4.66.6)\n",
            "Requirement already satisfied: fsspec>=2023.5.0 in /usr/local/lib/python3.10/dist-packages (from huggingface-hub<1.0,>=0.23.2->transformers) (2024.10.0)\n",
            "Requirement already satisfied: typing-extensions>=3.7.4.3 in /usr/local/lib/python3.10/dist-packages (from huggingface-hub<1.0,>=0.23.2->transformers) (4.12.2)\n",
            "Requirement already satisfied: charset-normalizer<4,>=2 in /usr/local/lib/python3.10/dist-packages (from requests->transformers) (3.4.0)\n",
            "Requirement already satisfied: idna<4,>=2.5 in /usr/local/lib/python3.10/dist-packages (from requests->transformers) (3.10)\n",
            "Requirement already satisfied: urllib3<3,>=1.21.1 in /usr/local/lib/python3.10/dist-packages (from requests->transformers) (2.2.3)\n",
            "Requirement already satisfied: certifi>=2017.4.17 in /usr/local/lib/python3.10/dist-packages (from requests->transformers) (2024.8.30)\n",
            "                                                text  \\\n",
            "0              bynd jpmorgan reel expect beyond meat   \n",
            "1  ccl rcl nomura point book weak carniv royal ca...   \n",
            "2  cx cemex cut credit suiss jp morgan weak build...   \n",
            "3                      ess btig research cut neutral   \n",
            "4              fnko funko slide piper jaffray pt cut   \n",
            "\n",
            "                                              tokens  \n",
            "0  [by, nd, Ġj, pm, organ, Ġreel, Ġexpect, Ġbeyon...  \n",
            "1  [cc, l, Ġr, cl, Ġnom, ura, Ġpoint, Ġbook, Ġwea...  \n",
            "2  [c, x, Ġc, em, ex, Ġcut, Ġcredit, Ġsu, iss, Ġj...  \n",
            "3        [ess, Ġb, t, ig, Ġresearch, Ġcut, Ġneutral]  \n",
            "4  [fn, ko, Ġfun, ko, Ġslide, Ġp, iper, Ġj, aff, ...  \n"
          ]
        }
      ]
    },
    {
      "cell_type": "markdown",
      "source": [
        "##Vectorization"
      ],
      "metadata": {
        "id": "KdJKq7_YLkGv"
      }
    },
    {
      "cell_type": "markdown",
      "source": [
        "![Vectorization](https://zotyag.github.io/Uni/INLP/Images/vektorizalas.webp)"
      ],
      "metadata": {
        "id": "X4HP1jHT9g2L"
      }
    },
    {
      "cell_type": "markdown",
      "source": [
        "###Train and test and validation set spliting"
      ],
      "metadata": {
        "id": "quL26FyzpoUR"
      }
    },
    {
      "cell_type": "code",
      "source": [
        "# Train and test set\n",
        "\n",
        "from sklearn.model_selection import train_test_split\n",
        "\n",
        "# Split the data into training and temporary sets (80% train, 20% temp)\n",
        "train_df, temp_df = train_test_split(df, test_size=0.2, random_state=42)\n",
        "\n",
        "# Split the temporary set into validation and test sets (50% validation, 50% test)\n",
        "val_df, test_df = train_test_split(temp_df, test_size=0.5, random_state=42)\n",
        "\n",
        "# Now you have train_df, val_df, and test_df\n",
        "print(f\"Train set size: {len(train_df)}\")\n",
        "print(f\"Validation set size: {len(val_df)}\")\n",
        "print(f\"Test set size: {len(test_df)}\")"
      ],
      "metadata": {
        "id": "4chwFRO4eHXa",
        "colab": {
          "base_uri": "https://localhost:8080/"
        },
        "outputId": "380d8101-ff33-496b-b5e2-824626c7d23c"
      },
      "execution_count": null,
      "outputs": [
        {
          "output_type": "stream",
          "name": "stdout",
          "text": [
            "Train set size: 9544\n",
            "Validation set size: 1193\n",
            "Test set size: 1194\n"
          ]
        }
      ]
    },
    {
      "cell_type": "markdown",
      "source": [
        "###Counter Vectorization"
      ],
      "metadata": {
        "id": "pFC07X4Dpvp5"
      }
    },
    {
      "cell_type": "code",
      "source": [
        "# CountVectorizer\n",
        "\n",
        "from sklearn.feature_extraction.text import CountVectorizer\n",
        "\n",
        "# Initialize the TF-IDF vectorizer\n",
        "vectorizer = CountVectorizer(max_features=1000)\n",
        "\n",
        "# Fit and transform the training data\n",
        "train_df_cv = vectorizer.fit_transform(train_df['text']).toarray()\n",
        "\n",
        "# Transform the validation and test data using the same vectorizer\n",
        "val_df_cv = vectorizer.transform(val_df['text']).toarray()\n",
        "test_df_cv = vectorizer.transform(test_df['text']).toarray()"
      ],
      "metadata": {
        "id": "isruDqqMNyzi"
      },
      "execution_count": null,
      "outputs": []
    },
    {
      "cell_type": "markdown",
      "source": [
        "###TF-IDF"
      ],
      "metadata": {
        "id": "A0yWwyMPp1yD"
      }
    },
    {
      "cell_type": "code",
      "source": [
        "# TFIDF\n",
        "\n",
        "from sklearn.feature_extraction.text import TfidfVectorizer\n",
        "\n",
        "# Initialize the TF-IDF vectorizer\n",
        "tfidf_vectorizer = TfidfVectorizer(max_features=1000)\n",
        "\n",
        "# Fit and transform the training data\n",
        "train_df_tfidf = tfidf_vectorizer.fit_transform(train_df['text'])\n",
        "\n",
        "# Transform the validation and test data using the same vectorizer\n",
        "val_df_tfidf = tfidf_vectorizer.transform(val_df['text'])\n",
        "test_df_tfidf = tfidf_vectorizer.transform(test_df['text'])"
      ],
      "metadata": {
        "id": "KdAvUbK2N0Wb"
      },
      "execution_count": null,
      "outputs": []
    },
    {
      "cell_type": "markdown",
      "source": [
        "###Labeling"
      ],
      "metadata": {
        "id": "mlO-cFvpp5PE"
      }
    },
    {
      "cell_type": "code",
      "source": [
        "# Labels\n",
        "\n",
        "train_df_labels = train_df['label'].values\n",
        "val_df_labels = val_df['label'].values\n",
        "test_df_labels = test_df['label'].values"
      ],
      "metadata": {
        "id": "CQn7E71hOXiU"
      },
      "execution_count": null,
      "outputs": []
    },
    {
      "cell_type": "markdown",
      "source": [
        "##Modelling"
      ],
      "metadata": {
        "id": "ng71ik2tOmwh"
      }
    },
    {
      "cell_type": "markdown",
      "source": [
        "![Modelling](https://zotyag.github.io/Uni/INLP/Images/modellezes.webp)"
      ],
      "metadata": {
        "id": "_fwAof-k9qZE"
      }
    },
    {
      "cell_type": "markdown",
      "source": [
        "###Count Vectorization model creation"
      ],
      "metadata": {
        "id": "HEQvtxtjpAlN"
      }
    },
    {
      "cell_type": "code",
      "source": [
        "# prompt: generate a model for the df_cv dataset\n",
        "\n",
        "from sklearn.linear_model import LogisticRegression\n",
        "\n",
        "# Initialize the Logistic Regression model\n",
        "model = LogisticRegression(max_iter=1000)  # Increased max_iter\n",
        "\n",
        "# Train the model using the CountVectorizer data\n",
        "model.fit(train_df_cv, train_df_labels)\n",
        "\n",
        "# Make predictions on the validation set\n",
        "val_predictions = model.predict(val_df_cv)\n",
        "\n",
        "# Evaluate the model (example using accuracy)\n",
        "from sklearn.metrics import accuracy_score\n",
        "accuracy = accuracy_score(val_df_labels, val_predictions)\n",
        "print(f\"Validation Accuracy: {accuracy}\")\n",
        "\n",
        "#Now you can use the trained 'model' to predict on the test set\n",
        "test_predictions = model.predict(test_df_cv)\n",
        "test_accuracy = accuracy_score(test_df_labels, test_predictions)\n",
        "\n",
        "print(f\"Test Accuracy: {test_accuracy}\")"
      ],
      "metadata": {
        "colab": {
          "base_uri": "https://localhost:8080/"
        },
        "id": "h6ms02mBQplt",
        "outputId": "7565ae4c-768a-4348-b08f-5503571701c4"
      },
      "execution_count": null,
      "outputs": [
        {
          "output_type": "stream",
          "name": "stdout",
          "text": [
            "Validation Accuracy: 0.7912824811399832\n",
            "Test Accuracy: 0.7805695142378559\n"
          ]
        }
      ]
    },
    {
      "cell_type": "markdown",
      "source": [
        "### TF-IDF model creation"
      ],
      "metadata": {
        "id": "nbS4JdCIpRC4"
      }
    },
    {
      "cell_type": "code",
      "source": [
        "# prompt: generate a model for the df_tfidf dataset\n",
        "\n",
        "# Initialize the Logistic Regression model\n",
        "model_tfidf = LogisticRegression(max_iter=1000)  # Increased max_iter\n",
        "\n",
        "# Train the model using the TF-IDF data\n",
        "model_tfidf.fit(train_df_tfidf, train_df_labels)\n",
        "\n",
        "# Make predictions on the validation set\n",
        "val_predictions_tfidf = model_tfidf.predict(val_df_tfidf)\n",
        "\n",
        "# Evaluate the model (example using accuracy)\n",
        "accuracy_tfidf = accuracy_score(val_df_labels, val_predictions_tfidf)\n",
        "print(f\"Validation Accuracy (TF-IDF): {accuracy_tfidf}\")\n",
        "\n",
        "# Now you can use the trained 'model_tfidf' to predict on the test set\n",
        "test_predictions_tfidf = model_tfidf.predict(test_df_tfidf)\n",
        "test_accuracy_tfidf = accuracy_score(test_df_labels, test_predictions_tfidf)\n",
        "\n",
        "print(f\"Test Accuracy (TF-IDF): {test_accuracy_tfidf}\")"
      ],
      "metadata": {
        "colab": {
          "base_uri": "https://localhost:8080/"
        },
        "id": "gizVhp60Q8LA",
        "outputId": "c4fd3013-4b64-4116-e26c-1c1155ec8885"
      },
      "execution_count": null,
      "outputs": [
        {
          "output_type": "stream",
          "name": "stdout",
          "text": [
            "Validation Accuracy (TF-IDF): 0.7870913663034367\n",
            "Test Accuracy (TF-IDF): 0.7747068676716918\n"
          ]
        }
      ]
    },
    {
      "cell_type": "markdown",
      "source": [
        "###Model evaluation"
      ],
      "metadata": {
        "id": "K0u8ZKUUpZVw"
      }
    },
    {
      "cell_type": "code",
      "source": [
        "# prompt: Evaluate the two models on the test sets\n",
        "\n",
        "# ... (previous code)\n",
        "\n",
        "# Evaluate CountVectorizer model on the test set\n",
        "test_predictions_cv = model.predict(test_df_cv)\n",
        "test_accuracy_cv = accuracy_score(test_df_labels, test_predictions_cv)\n",
        "print(f\"Test Accuracy (CountVectorizer): {test_accuracy_cv}\")\n",
        "\n",
        "# Evaluate TF-IDF model on the test set\n",
        "test_predictions_tfidf = model_tfidf.predict(test_df_tfidf)\n",
        "test_accuracy_tfidf = accuracy_score(test_df_labels, test_predictions_tfidf)\n",
        "print(f\"Test Accuracy (TF-IDF): {test_accuracy_tfidf}\")"
      ],
      "metadata": {
        "colab": {
          "base_uri": "https://localhost:8080/"
        },
        "id": "hzG8UA8JRZEp",
        "outputId": "8d309375-59b2-4f1d-d948-157f6faad18c"
      },
      "execution_count": null,
      "outputs": [
        {
          "output_type": "stream",
          "name": "stdout",
          "text": [
            "Test Accuracy (CountVectorizer): 0.7805695142378559\n",
            "Test Accuracy (TF-IDF): 0.7747068676716918\n"
          ]
        }
      ]
    },
    {
      "cell_type": "markdown",
      "source": [
        "##Practical use case"
      ],
      "metadata": {
        "id": "6ESxtsHFRrlc"
      }
    },
    {
      "cell_type": "markdown",
      "source": [
        "![Practical use case](https://zotyag.github.io/Uni/INLP/Images/practical_use.webp)"
      ],
      "metadata": {
        "id": "gBTxfb279yNb"
      }
    },
    {
      "cell_type": "markdown",
      "source": [
        "###Getting Tweet ID"
      ],
      "metadata": {
        "id": "NvBef5g9siEa"
      }
    },
    {
      "cell_type": "code",
      "source": [
        "# prompt: take a twitter link format(https://x.com/cinecitta2030/status/1863249312458686810) to a post as a input from the user and then get the tweet id which is the last part of the URL\n",
        "\n",
        "import re\n",
        "\n",
        "def get_tweet_id(twitter_url):\n",
        "  \"\"\"\n",
        "  Extracts the tweet ID from a Twitter URL.\n",
        "\n",
        "  Args:\n",
        "    twitter_url: The URL of the tweet.\n",
        "\n",
        "  Returns:\n",
        "    The tweet ID as a string, or None if the ID cannot be extracted.\n",
        "  \"\"\"\n",
        "  match = re.search(r\"/status/(\\d+)\", twitter_url)\n",
        "  if match:\n",
        "    return match.group(1)\n",
        "  else:\n",
        "    return None"
      ],
      "metadata": {
        "id": "JWnqdg2PaPW2"
      },
      "execution_count": null,
      "outputs": []
    },
    {
      "cell_type": "markdown",
      "source": [
        "###Getting text from tweet"
      ],
      "metadata": {
        "id": "5UJE6IXksl3S"
      }
    },
    {
      "cell_type": "code",
      "source": [
        "import requests\n",
        "import os\n",
        "import json\n",
        "from google.colab import userdata\n",
        "\n",
        "\n",
        "# To set your enviornment variables in your terminal run the following line:\n",
        "# export 'BEARER_TOKEN'='<your_bearer_token>'\n",
        "bearer_token = userdata.get('BEARER')\n",
        "\n",
        "\n",
        "def create_url(tweet_url):\n",
        "    id = get_tweet_id(tweet_url)\n",
        "    url = f\"https://api.twitter.com/2/tweets/{id}\"\n",
        "    return url\n",
        "\n",
        "\n",
        "def bearer_oauth(r):\n",
        "    \"\"\"\n",
        "    Method required by bearer token authentication.\n",
        "    \"\"\"\n",
        "\n",
        "    r.headers[\"Authorization\"] = f\"Bearer {bearer_token}\"\n",
        "    r.headers[\"User-Agent\"] = \"v2TweetLookupPython\"\n",
        "    return r\n",
        "\n",
        "\n",
        "def connect_to_endpoint(url):\n",
        "    response = requests.request(\"GET\", url, auth=bearer_oauth)\n",
        "    print(response.status_code)\n",
        "    if response.status_code != 200:\n",
        "        raise Exception(\n",
        "            \"Request returned an error: {} {}\".format(\n",
        "                response.status_code, response.text\n",
        "            )\n",
        "        )\n",
        "    return response.json()\n",
        "\n",
        "def return_text_from_tweet(input_text):\n",
        "  url = create_url(input_text)\n",
        "  json_response = connect_to_endpoint(url)\n",
        "  return json_response['data']['text']\n",
        "\n"
      ],
      "metadata": {
        "id": "b7hWJnXgZjiz"
      },
      "execution_count": null,
      "outputs": []
    },
    {
      "cell_type": "markdown",
      "source": [
        "###Predictions"
      ],
      "metadata": {
        "id": "n4jQaczBsqiD"
      }
    },
    {
      "cell_type": "code",
      "source": [
        "# prompt: take a X/twitter link as an input from the user and then get the text from the post and parse it into a string then use the previously used text cleaning methods for this string after that make a prediction with both (tfidf and cv) models and then print out the results\n",
        "\n",
        "import pandas as pd\n",
        "import re\n",
        "import contractions\n",
        "import string\n",
        "import nltk\n",
        "from nltk.corpus import stopwords\n",
        "from nltk.stem import PorterStemmer\n",
        "from transformers import AutoTokenizer\n",
        "from sklearn.feature_extraction.text import CountVectorizer\n",
        "from sklearn.feature_extraction.text import TfidfVectorizer\n",
        "from sklearn.linear_model import LogisticRegression\n",
        "from sklearn.metrics import accuracy_score\n",
        "\n",
        "# Assuming the previous code has been executed and the models (model, model_tfidf),\n",
        "# vectorizers (vectorizer, tfidf_vectorizer), and other necessary objects are in memory.\n",
        "# Test input: https://x.com/FluentInFinance/status/1862537796696592814\n",
        "\n",
        "\n",
        "def preprocess_text(text):\n",
        "    text = remove_urls(text)\n",
        "    text = text.lower()\n",
        "    text = expand_contractions(text)\n",
        "    text = remove_punctuation(text)\n",
        "    text = remove_stopwords(text)\n",
        "    text = stem_text(text)\n",
        "    text = remove_whitespace(text)\n",
        "    text = remove_emojis(text)\n",
        "    return text\n",
        "\n",
        "def predict_sentiment(tweet_link):\n",
        "    try:\n",
        "        #  Extract tweet text from the link (implementation depends on the link format)\n",
        "        #  Replace this placeholder with actual tweet extraction code\n",
        "        tweet_text = return_text_from_tweet(tweet_link)\n",
        "\n",
        "        #Preprocess the extracted text\n",
        "        cleaned_tweet = preprocess_text(tweet_text)\n",
        "\n",
        "        # Vectorize using CountVectorizer\n",
        "        cv_tweet = vectorizer.transform([cleaned_tweet]).toarray()\n",
        "        cv_prediction = model.predict(cv_tweet)[0]\n",
        "\n",
        "        # Vectorize using TF-IDF\n",
        "        tfidf_tweet = tfidf_vectorizer.transform([cleaned_tweet])\n",
        "        tfidf_prediction = model_tfidf.predict(tfidf_tweet)[0]\n",
        "\n",
        "        if cv_prediction == 0:\n",
        "          cv_prediction = \"Bearish\"\n",
        "        elif cv_prediction == 1:\n",
        "          cv_prediction = \"Bullish\"\n",
        "        else:\n",
        "          cv_prediction = \"Neutral\"\n",
        "\n",
        "        if tfidf_prediction == 0:\n",
        "          tfidf_prediction = \"Bearish\"\n",
        "        elif tfidf_prediction == 1:\n",
        "          tfidf_prediction = \"Bullish\"\n",
        "        else:\n",
        "          tfidf_prediction = \"Neutral\"\n",
        "\n",
        "        print(f\"{cleaned_tweet}\")\n",
        "        print(f\"Predicted Sentiment (CountVectorizer): {cv_prediction}\")\n",
        "        print(f\"Predicted Sentiment (TF-IDF): {tfidf_prediction}\")\n",
        "\n",
        "    except Exception as e:\n",
        "      print(f\"An error occurred: {e}\")\n",
        "\n",
        "# Get input from the user\n",
        "tweet_link = input(\"Enter the X/Twitter link: \")\n",
        "predict_sentiment(tweet_link)"
      ],
      "metadata": {
        "id": "ebwy7LktR2Ij",
        "colab": {
          "base_uri": "https://localhost:8080/"
        },
        "outputId": "1281b514-77dd-446a-928f-8843d26a9751"
      },
      "execution_count": null,
      "outputs": [
        {
          "output_type": "stream",
          "name": "stdout",
          "text": [
            "Enter the X/Twitter link: https://x.com/FluentInFinance/status/1862537796696592814\n",
            "200\n",
            "The S&amp;P 500 is up 57% since Michael Burry said, \"Sell.\" https://t.co/D5OSW0bDBP\n",
            "Predicted Sentiment (CountVectorizer): Bearish\n",
            "Predicted Sentiment (TF-IDF): Bearish\n"
          ]
        }
      ]
    }
  ]
}